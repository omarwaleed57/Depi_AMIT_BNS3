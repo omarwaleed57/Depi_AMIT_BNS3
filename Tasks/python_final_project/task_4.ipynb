{
 "cells": [
  {
   "cell_type": "markdown",
   "id": "d2ec781a",
   "metadata": {},
   "source": [
    "## task-4\n",
    "Create a class called TextFileReader that encapsulates functionality for reading a text file, counting lines, words, and characters, and displaying the contents of the file.\n",
    "\n",
    "Instructions:\n",
    "\n",
    "Define the Class:\n",
    "\n",
    "- Create a class named TextFileReader.\n",
    "\n",
    "The class should have the following attributes:\n",
    "\n",
    "- file_path: A string that holds the path to the text file.\n",
    "\n",
    "Implement Methods:\n",
    "\n",
    "- Constructor (__init__): Initialize the file_path attribute.\n",
    "- read_file(self): This method should open the file, read its contents, and store the contents in an attribute named content.\n",
    "- count_lines(self): This method should return the number of lines in the file.\n",
    "- count_words(self): This method should return the total number of words in the file.\n",
    "- count_characters(self): This method should return the total number of characters in the file.\n",
    "- display_content(self): This method should print the content of the file.\n",
    "\n",
    "Test Your Class:\n",
    "\n",
    "- Create an instance of the TextFileReader class with a valid text file path.\n",
    "- Call the methods to read the file, count lines, words, characters, and display the content."
   ]
  },
  {
   "cell_type": "code",
   "execution_count": 63,
   "id": "a6f383a7",
   "metadata": {},
   "outputs": [
    {
     "name": "stdout",
     "output_type": "stream",
     "text": [
      "numbers of lines in file:  6\n",
      "number of words in file:  6\n",
      "number of characters in file:  64\n",
      "content:\n",
      "Ayman:1234\n",
      "Ali:2345\n",
      "Omar:3456\n",
      "Hassan:4567\n",
      "Menna:5678\n",
      "George:6789\n"
     ]
    }
   ],
   "source": [
    "import os\n",
    "# Class\n",
    "class TextFileReader:\n",
    "    def __init__(self,file_path):\n",
    "        self.file_path = file_path\n",
    "        self.content = \"\"\n",
    "    def read_file(self):\n",
    "        \"\"\"This method should open the file, read its contents, and store the contents in an attribute named content.\"\"\"\n",
    "        try:\n",
    "            with open(self.file_path, 'r', encoding='utf-8') as file:\n",
    "                self.content = file.read()\n",
    "            return content\n",
    "        except FileNotFoundError:\n",
    "            return f\"Error: The file '{file_path}' was not found.\"\n",
    "        except IOError:\n",
    "            return \"Error: An error occurred while reading the file.\"\n",
    "    def count_lines(self):\n",
    "        \"\"\"This method should return the number of lines in the file.\"\"\"\n",
    "        lines = self.content.splitlines()\n",
    "        print(\"numbers of lines in file: \", len(lines))\n",
    "    def count_words(self):\n",
    "        \"\"\"This method should return the total number of words in the file.\"\"\"\n",
    "        words = self.content.split()\n",
    "        print(\"number of words in file: \", len(words))\n",
    "    def count_characters(self):\n",
    "        \"\"\"This method should return the total number of characters in the file.\"\"\"\n",
    "        print(\"number of characters in file: \", len(self.content))\n",
    "    def display_content(self):\n",
    "        \"\"\"This method should print the content of the file.\"\"\"\n",
    "        print(\"content:\")\n",
    "        print(self.content)\n",
    "\n",
    "# Usage\n",
    "txt = TextFileReader('G:/DEPI/Depi_Amit_AI_BNS3/Sources/python_project/users.txt')\n",
    "txt.read_file()\n",
    "txt.count_lines()\n",
    "txt.count_words()\n",
    "txt.count_characters()\n",
    "txt.display_content()"
   ]
  }
 ],
 "metadata": {
  "kernelspec": {
   "display_name": "Python 3",
   "language": "python",
   "name": "python3"
  },
  "language_info": {
   "codemirror_mode": {
    "name": "ipython",
    "version": 3
   },
   "file_extension": ".py",
   "mimetype": "text/x-python",
   "name": "python",
   "nbconvert_exporter": "python",
   "pygments_lexer": "ipython3",
   "version": "3.12.9"
  }
 },
 "nbformat": 4,
 "nbformat_minor": 5
}

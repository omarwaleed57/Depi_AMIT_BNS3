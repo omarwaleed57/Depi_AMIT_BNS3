{
 "cells": [
  {
   "cell_type": "code",
   "execution_count": 1,
   "id": "6523489b",
   "metadata": {},
   "outputs": [],
   "source": [
    "x = \"george\"\n",
    "type(x)\n",
    "hex(id(x))\n",
    "# --------------------------------------------------------\n",
    "y = \"\"\"\n",
    "\n",
    "\"\"\"  # used to type multiple lines of code \n",
    "# ---------------------------------------------------------\n",
    "\n"
   ]
  },
  {
   "cell_type": "code",
   "execution_count": 2,
   "id": "16369fe3",
   "metadata": {},
   "outputs": [
    {
     "name": "stdout",
     "output_type": "stream",
     "text": [
      "My age is 50\n"
     ]
    }
   ],
   "source": [
    "age = 50 \n",
    "print(\"My age is\",age) "
   ]
  },
  {
   "cell_type": "code",
   "execution_count": 3,
   "id": "500a0d43",
   "metadata": {},
   "outputs": [
    {
     "name": "stdout",
     "output_type": "stream",
     "text": [
      "My name is Hossam, My age is 50\n",
      "My name is Mohamed , and my age is 50 \n"
     ]
    }
   ],
   "source": [
    "name = \"Hossam\"\n",
    "print(f\"My name is {name}, My age is {age}\")\n",
    "print(\"My name is {name} , and my age is {age} \".format(name = \"Mohamed\",age = 50))"
   ]
  },
  {
   "cell_type": "code",
   "execution_count": 4,
   "id": "afe159e6",
   "metadata": {},
   "outputs": [],
   "source": [
    "list_1 = [1,2,3]"
   ]
  },
  {
   "cell_type": "code",
   "execution_count": 5,
   "id": "4519e2ca",
   "metadata": {},
   "outputs": [
    {
     "data": {
      "text/plain": [
       "['g', 'e', 'o', 'r', 'g', 'e']"
      ]
     },
     "execution_count": 5,
     "metadata": {},
     "output_type": "execute_result"
    }
   ],
   "source": [
    "list_1 = \"george\"\n",
    "list(list_1)"
   ]
  },
  {
   "cell_type": "code",
   "execution_count": 6,
   "id": "138c4404",
   "metadata": {},
   "outputs": [
    {
     "data": {
      "text/plain": [
       "'a'"
      ]
     },
     "execution_count": 6,
     "metadata": {},
     "output_type": "execute_result"
    }
   ],
   "source": [
    "str_1 = \"amit learning\"\n",
    "str_1[0]\n"
   ]
  },
  {
   "cell_type": "code",
   "execution_count": 7,
   "id": "7ad61732",
   "metadata": {},
   "outputs": [
    {
     "name": "stdout",
     "output_type": "stream",
     "text": [
      "at\n",
      "amit learning\n"
     ]
    }
   ],
   "source": [
    "# slicing\n",
    "print(str_1[0:4:3])\n",
    "print(str_1[:])"
   ]
  },
  {
   "cell_type": "code",
   "execution_count": 8,
   "id": "d09fa434",
   "metadata": {},
   "outputs": [
    {
     "data": {
      "text/plain": [
       "'Amit learning'"
      ]
     },
     "execution_count": 8,
     "metadata": {},
     "output_type": "execute_result"
    }
   ],
   "source": [
    "str_1.upper()\n",
    "str_1.lower()\n",
    "str_1.replace(\"amit\",\"Omar\")\n",
    "str_1.capitalize()"
   ]
  },
  {
   "cell_type": "code",
   "execution_count": 9,
   "id": "d697aa95",
   "metadata": {},
   "outputs": [
    {
     "data": {
      "text/plain": [
       "'i love Egypt'"
      ]
     },
     "execution_count": 9,
     "metadata": {},
     "output_type": "execute_result"
    }
   ],
   "source": [
    "list_2 = [\"i\",\"love\",\"Egypt\"]\n",
    "sentense = \" \".join(list_2)\n",
    "sentense"
   ]
  },
  {
   "cell_type": "code",
   "execution_count": 10,
   "id": "09ebfa34",
   "metadata": {},
   "outputs": [
    {
     "data": {
      "text/plain": [
       "[1, 2, 3, 4, 1, 2, 3, 4, 1, 2, 3, 4]"
      ]
     },
     "execution_count": 10,
     "metadata": {},
     "output_type": "execute_result"
    }
   ],
   "source": [
    "list_3 = [1,2,3,4]\n",
    "list_3 *3"
   ]
  },
  {
   "cell_type": "code",
   "execution_count": 11,
   "id": "402132c2",
   "metadata": {},
   "outputs": [
    {
     "data": {
      "text/plain": [
       "['ahmed', 23, 200, True, 'ali']"
      ]
     },
     "execution_count": 11,
     "metadata": {},
     "output_type": "execute_result"
    }
   ],
   "source": [
    "list_3 = [\"ahmed\",23,200,True]\n",
    "len(list_3)\n",
    "x = list_3 + [\"ali\"]\n",
    "x"
   ]
  },
  {
   "cell_type": "code",
   "execution_count": 12,
   "id": "14578153",
   "metadata": {},
   "outputs": [
    {
     "data": {
      "text/plain": [
       "'v1'"
      ]
     },
     "execution_count": 12,
     "metadata": {},
     "output_type": "execute_result"
    }
   ],
   "source": [
    "dict_1 = {\"key_1\" : \"v1\",\"Key_2\" : \"v2\"}\n",
    "dict_1[\"key_1\"]"
   ]
  },
  {
   "cell_type": "code",
   "execution_count": 13,
   "id": "62b6a8fa",
   "metadata": {},
   "outputs": [
    {
     "data": {
      "text/plain": [
       "True"
      ]
     },
     "execution_count": 13,
     "metadata": {},
     "output_type": "execute_result"
    }
   ],
   "source": [
    "1 != 2 "
   ]
  },
  {
   "cell_type": "code",
   "execution_count": 14,
   "id": "4eb555be",
   "metadata": {},
   "outputs": [
    {
     "data": {
      "text/plain": [
       "True"
      ]
     },
     "execution_count": 14,
     "metadata": {},
     "output_type": "execute_result"
    }
   ],
   "source": [
    "\"X\" in \"Xavi\""
   ]
  },
  {
   "cell_type": "code",
   "execution_count": 15,
   "id": "564039f0",
   "metadata": {},
   "outputs": [
    {
     "data": {
      "text/plain": [
       "11"
      ]
     },
     "execution_count": 15,
     "metadata": {},
     "output_type": "execute_result"
    }
   ],
   "source": [
    "s = \"Welcome to DEPI\"\n",
    "s.find(\"DEPI\")"
   ]
  },
  {
   "cell_type": "code",
   "execution_count": 16,
   "id": "0369290a",
   "metadata": {},
   "outputs": [
    {
     "data": {
      "text/plain": [
       "'DEPI'"
      ]
     },
     "execution_count": 16,
     "metadata": {},
     "output_type": "execute_result"
    }
   ],
   "source": [
    "s = \"      DEPI    \"\n",
    "s.strip()"
   ]
  },
  {
   "cell_type": "code",
   "execution_count": 19,
   "id": "e44d7891",
   "metadata": {},
   "outputs": [
    {
     "data": {
      "text/plain": [
       "int"
      ]
     },
     "execution_count": 19,
     "metadata": {},
     "output_type": "execute_result"
    }
   ],
   "source": [
    "std_name = int(input(\"Enter Your Name\"))\n",
    "type(std_name)"
   ]
  },
  {
   "cell_type": "code",
   "execution_count": null,
   "id": "aa86f6e3",
   "metadata": {},
   "outputs": [],
   "source": []
  }
 ],
 "metadata": {
  "kernelspec": {
   "display_name": ".venv",
   "language": "python",
   "name": "python3"
  },
  "language_info": {
   "codemirror_mode": {
    "name": "ipython",
    "version": 3
   },
   "file_extension": ".py",
   "mimetype": "text/x-python",
   "name": "python",
   "nbconvert_exporter": "python",
   "pygments_lexer": "ipython3",
   "version": "3.12.10"
  }
 },
 "nbformat": 4,
 "nbformat_minor": 5
}

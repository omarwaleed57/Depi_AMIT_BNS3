{
 "cells": [
  {
   "cell_type": "code",
   "execution_count": 2,
   "id": "578821c8",
   "metadata": {},
   "outputs": [],
   "source": [
    "\n",
    "class calc:\n",
    "    \n",
    "    def __init__(self,num1,num2):          \n",
    "        self.num1 = num1\n",
    "        self.num2 = num2\n",
    "    def addition(self):\n",
    "        return self.num1 + self.num2\n",
    "    def subtraction(self):\n",
    "        return self.num1 - self.num2\n",
    "    def multiplication(self):\n",
    "        return self.num1 * self.num2\n",
    "    def devition(self):\n",
    "        return self.num1 / self.num2\n"
   ]
  },
  {
   "cell_type": "code",
   "execution_count": 3,
   "id": "5bc75132",
   "metadata": {},
   "outputs": [
    {
     "data": {
      "text/plain": [
       "-10"
      ]
     },
     "execution_count": 3,
     "metadata": {},
     "output_type": "execute_result"
    }
   ],
   "source": [
    "c1 = calc(20,30)\n",
    "c1.subtraction()"
   ]
  },
  {
   "cell_type": "code",
   "execution_count": null,
   "id": "649f0aed",
   "metadata": {},
   "outputs": [],
   "source": []
  }
 ],
 "metadata": {
  "kernelspec": {
   "display_name": ".venv",
   "language": "python",
   "name": "python3"
  },
  "language_info": {
   "codemirror_mode": {
    "name": "ipython",
    "version": 3
   },
   "file_extension": ".py",
   "mimetype": "text/x-python",
   "name": "python",
   "nbconvert_exporter": "python",
   "pygments_lexer": "ipython3",
   "version": "3.12.10"
  }
 },
 "nbformat": 4,
 "nbformat_minor": 5
}

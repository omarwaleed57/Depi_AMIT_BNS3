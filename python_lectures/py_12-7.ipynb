{
 "cells": [
  {
   "cell_type": "code",
   "execution_count": 29,
   "id": "bb86869a",
   "metadata": {},
   "outputs": [],
   "source": [
    "list_one = [1,2,3,4,\"Depi\",\"learning\",True,[1,2,3,\"true\",[\"ml\",\"dl\",\"ds\"]]]"
   ]
  },
  {
   "cell_type": "code",
   "execution_count": 30,
   "id": "d4c196eb",
   "metadata": {},
   "outputs": [
    {
     "data": {
      "text/plain": [
       "list"
      ]
     },
     "execution_count": 30,
     "metadata": {},
     "output_type": "execute_result"
    }
   ],
   "source": [
    "type(list_one)"
   ]
  },
  {
   "cell_type": "code",
   "execution_count": 31,
   "id": "448e6248",
   "metadata": {},
   "outputs": [],
   "source": [
    "list_one[7][4][1] = \"Omar\"\n"
   ]
  },
  {
   "cell_type": "code",
   "execution_count": 32,
   "id": "f6b37549",
   "metadata": {},
   "outputs": [
    {
     "data": {
      "text/plain": [
       "'Omar'"
      ]
     },
     "execution_count": 32,
     "metadata": {},
     "output_type": "execute_result"
    }
   ],
   "source": [
    "list_one[7][4][1]"
   ]
  },
  {
   "cell_type": "code",
   "execution_count": 33,
   "id": "203b9e78",
   "metadata": {},
   "outputs": [
    {
     "name": "stdout",
     "output_type": "stream",
     "text": [
      "<class 'str'>\n",
      "<class 'list'>\n"
     ]
    }
   ],
   "source": [
    "x = \"omar\"\n",
    "y = list(x)\n",
    "print(type(x))\n",
    "print(type(y))\n"
   ]
  },
  {
   "cell_type": "code",
   "execution_count": 34,
   "id": "14573a95",
   "metadata": {},
   "outputs": [
    {
     "data": {
      "text/plain": [
       "['depi', 'data', 'science', 'machine learning']"
      ]
     },
     "execution_count": 34,
     "metadata": {},
     "output_type": "execute_result"
    }
   ],
   "source": [
    "list_11 = [\"depi\",\"data\",\"science\"]\n",
    "list_11.append(\"machine learning\")\n",
    "list_11\n"
   ]
  },
  {
   "cell_type": "code",
   "execution_count": 36,
   "id": "61907bca",
   "metadata": {},
   "outputs": [
    {
     "data": {
      "text/plain": [
       "['machine learning', 'depi', 'data', 'science']"
      ]
     },
     "execution_count": 36,
     "metadata": {},
     "output_type": "execute_result"
    }
   ],
   "source": [
    "list_11 = [\"depi\",\"data\",\"science\"]\n",
    "list_11.insert(0,\"machine learning\")\n",
    "list_11"
   ]
  },
  {
   "cell_type": "code",
   "execution_count": 42,
   "id": "bba7470d",
   "metadata": {},
   "outputs": [
    {
     "data": {
      "text/plain": [
       "[1, 2, 3, 3, 4, 5]"
      ]
     },
     "execution_count": 42,
     "metadata": {},
     "output_type": "execute_result"
    }
   ],
   "source": [
    "x1 = [1,2,3]\n",
    "x2 = [3,4,5]\n",
    "z = x1 + x2 \n",
    "z\n",
    "x1.extend(x2)\n",
    "x1"
   ]
  },
  {
   "cell_type": "code",
   "execution_count": 43,
   "id": "4ef743c2",
   "metadata": {},
   "outputs": [
    {
     "data": {
      "text/plain": [
       "['data', 'science']"
      ]
     },
     "execution_count": 43,
     "metadata": {},
     "output_type": "execute_result"
    }
   ],
   "source": [
    "list_11 = [\"depi\",\"data\",\"science\"]\n",
    "list_11.remove(\"depi\")\n",
    "list_11"
   ]
  },
  {
   "cell_type": "code",
   "execution_count": 45,
   "id": "473143fb",
   "metadata": {},
   "outputs": [
    {
     "data": {
      "text/plain": [
       "['data', 'science']"
      ]
     },
     "execution_count": 45,
     "metadata": {},
     "output_type": "execute_result"
    }
   ],
   "source": [
    "list_11 = [\"depi\",\"data\",\"science\"]\n",
    "list_11.pop(0)\n",
    "list_11"
   ]
  },
  {
   "cell_type": "code",
   "execution_count": 51,
   "id": "b91060fd",
   "metadata": {},
   "outputs": [
    {
     "data": {
      "text/plain": [
       "[]"
      ]
     },
     "execution_count": 51,
     "metadata": {},
     "output_type": "execute_result"
    }
   ],
   "source": [
    "my_list = [3,1,4,1,5,9,2]\n",
    "my_list.clear()\n",
    "my_list"
   ]
  },
  {
   "cell_type": "code",
   "execution_count": null,
   "id": "fb49e33f",
   "metadata": {},
   "outputs": [],
   "source": [
    "del my_list  # Delete Variable "
   ]
  },
  {
   "cell_type": "code",
   "execution_count": 63,
   "id": "66a9f203",
   "metadata": {},
   "outputs": [
    {
     "name": "stdout",
     "output_type": "stream",
     "text": [
      "[1, 2, 3, 4, 'Amit', 'learning', True, [1, 2, 3, 'true', ['ml', 'dl', 'ds']]]\n"
     ]
    },
    {
     "data": {
      "text/plain": [
       "tuple"
      ]
     },
     "execution_count": 63,
     "metadata": {},
     "output_type": "execute_result"
    }
   ],
   "source": [
    "tuple_one = (1,2,3,4,\"Depi\",\"learning\",True,[1,2,3,\"true\",[\"ml\",\"dl\",\"ds\"]])\n",
    "x = list(tuple_one)\n",
    "x[4] = \"Amit\" \n",
    "print(x)\n",
    "y = tuple(x)\n",
    "type(y)\n",
    "# Tuple Can not Be Edited "
   ]
  },
  {
   "cell_type": "code",
   "execution_count": 66,
   "id": "94f49e81",
   "metadata": {},
   "outputs": [
    {
     "data": {
      "text/plain": [
       "{'Ahmed', 'Ali', 'Aya', 'Mona'}"
      ]
     },
     "execution_count": 66,
     "metadata": {},
     "output_type": "execute_result"
    }
   ],
   "source": [
    "x2 = [\"Ahmed\",\"Ahmed\",\"Ali\",\"Mona\",\"Aya\"]\n",
    "x3 = set(x2)\n",
    "type(x3)\n",
    "x3"
   ]
  },
  {
   "cell_type": "code",
   "execution_count": 69,
   "id": "7e9893a9",
   "metadata": {},
   "outputs": [
    {
     "data": {
      "text/plain": [
       "{'Key1': 'Amit Learning', 'Key2': 'Depi', 'Key3': 'Python'}"
      ]
     },
     "execution_count": 69,
     "metadata": {},
     "output_type": "execute_result"
    }
   ],
   "source": [
    "dict_1 = {\"Key1\": 12.7 , \"Key2\": \"Depi\" , \"Key3\": \"Python\" }\n",
    "dict_1[\"Key1\"] = \"Amit Learning\"\n",
    "dict_1"
   ]
  },
  {
   "cell_type": "code",
   "execution_count": 72,
   "id": "ff90e171",
   "metadata": {},
   "outputs": [
    {
     "data": {
      "text/plain": [
       "{'a': 1, 'b': 2, 'c': 3}"
      ]
     },
     "execution_count": 72,
     "metadata": {},
     "output_type": "execute_result"
    }
   ],
   "source": [
    "list_1 = [(\"a\",1),(\"b\",2),(\"c\",3)]\n",
    "list_1\n",
    "zz = dict(list_1)\n",
    "zz"
   ]
  },
  {
   "cell_type": "code",
   "execution_count": 76,
   "id": "10d20e07",
   "metadata": {},
   "outputs": [
    {
     "name": "stdout",
     "output_type": "stream",
     "text": [
      "A\n"
     ]
    }
   ],
   "source": [
    "grade = float(input(\"enter your grade\"))\n",
    "\n",
    "if 0<=grade<=100 : \n",
    "    if 90<grade<100 :\n",
    "        print(\"A\")\n",
    "    elif 80<grade<90 :\n",
    "        print(\"B\") \n",
    "    elif 70<grade<80 :\n",
    "        print(\"C\")\n",
    "    elif 60<grade<70 :\n",
    "        print(\"D\")\n",
    "    elif grade<60 :\n",
    "        print(\"F\")           \n",
    "else :\n",
    "    print(\"please enter a valid score\")    "
   ]
  },
  {
   "cell_type": "code",
   "execution_count": 83,
   "id": "4b8cd067",
   "metadata": {},
   "outputs": [
    {
     "name": "stdout",
     "output_type": "stream",
     "text": [
      "0\n",
      "1\n",
      "3\n",
      "4\n",
      "5\n"
     ]
    }
   ],
   "source": [
    "for i in range (6):\n",
    "    if i == 2 :\n",
    "        pass\n",
    "    else :\n",
    "        print(i)"
   ]
  },
  {
   "cell_type": "code",
   "execution_count": 84,
   "id": "4399b55d",
   "metadata": {},
   "outputs": [],
   "source": [
    "for i in range(100) :\n",
    "    pass"
   ]
  },
  {
   "cell_type": "code",
   "execution_count": null,
   "id": "76d4b092",
   "metadata": {},
   "outputs": [],
   "source": [
    "x = 6\n",
    "while True :\n",
    "    print(x)\n",
    "    x -= 1 "
   ]
  },
  {
   "cell_type": "code",
   "execution_count": null,
   "id": "35f75f83",
   "metadata": {},
   "outputs": [],
   "source": []
  }
 ],
 "metadata": {
  "kernelspec": {
   "display_name": ".venv",
   "language": "python",
   "name": "python3"
  },
  "language_info": {
   "codemirror_mode": {
    "name": "ipython",
    "version": 3
   },
   "file_extension": ".py",
   "mimetype": "text/x-python",
   "name": "python",
   "nbconvert_exporter": "python",
   "pygments_lexer": "ipython3",
   "version": "3.12.10"
  }
 },
 "nbformat": 4,
 "nbformat_minor": 5
}

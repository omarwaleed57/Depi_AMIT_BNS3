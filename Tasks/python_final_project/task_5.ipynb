{
 "cells": [
  {
   "cell_type": "markdown",
   "id": "75028aa9",
   "metadata": {},
   "source": [
    "## Task-5\n",
    "\n",
    "Task 7. on workshop\n",
    "- Write a Python program to find all the unique words and count the frequency of occurrence from a given list of strings\n",
    "\n",
    "- **Ex:** [\"Welcome\", \"Ali\", \"Hi\", \"Ali\", \"No\", \"Hi\", \"No\", \"Ali\", \"No\", \"Ali\"]  → {'Ali': 4, 'Welcome': 1, 'No': 3, 'Hi': 2}\n",
    "\n",
    "### convert to function"
   ]
  },
  {
   "cell_type": "code",
   "execution_count": 5,
   "id": "0e6a7319",
   "metadata": {},
   "outputs": [
    {
     "data": {
      "text/plain": [
       "{'Welcome': 1, 'No': 3, 'Ali': 4, 'Hi': 2}"
      ]
     },
     "execution_count": 5,
     "metadata": {},
     "output_type": "execute_result"
    }
   ],
   "source": [
    "words = [\"Welcome\", \"Ali\", \"Hi\", \"Ali\", \"No\", \"Hi\", \"No\", \"Ali\", \"No\", \"Ali\"]\n",
    "unique_words = set(words)\n",
    "counts = {word: 0 for word in unique_words}\n",
    "for i in unique_words:\n",
    "    for j in words:\n",
    "        if i == j:\n",
    "            counts[i] += 1\n",
    "counts"
   ]
  },
  {
   "cell_type": "code",
   "execution_count": null,
   "id": "b41843aa",
   "metadata": {},
   "outputs": [
    {
     "data": {
      "text/plain": [
       "{'Welcome': 1, 'No': 3, 'Ali': 4, 'Hi': 2}"
      ]
     },
     "execution_count": 4,
     "metadata": {},
     "output_type": "execute_result"
    }
   ],
   "source": [
    "# Function\n",
    "\n",
    "def unique(words):\n",
    "    \"\"\"\n",
    "    This function takes a list of words and count the frequency of occurrence of each word\n",
    "\n",
    "    input: list of strings to count\n",
    "    input_type: list\n",
    "    \"\"\"\n",
    "    unique_words = set(words)\n",
    "    counts = {word: 0 for word in unique_words}\n",
    "    for i in unique_words:\n",
    "        for j in words:\n",
    "            if i == j:\n",
    "                counts[i] += 1\n",
    "    return counts\n",
    "words = [\"Welcome\", \"Ali\", \"Hi\", \"Ali\", \"No\", \"Hi\", \"No\", \"Ali\", \"No\", \"Ali\"]\n",
    "unique(words)"
   ]
  }
 ],
 "metadata": {
  "kernelspec": {
   "display_name": "Python 3",
   "language": "python",
   "name": "python3"
  },
  "language_info": {
   "codemirror_mode": {
    "name": "ipython",
    "version": 3
   },
   "file_extension": ".py",
   "mimetype": "text/x-python",
   "name": "python",
   "nbconvert_exporter": "python",
   "pygments_lexer": "ipython3",
   "version": "3.12.9"
  }
 },
 "nbformat": 4,
 "nbformat_minor": 5
}

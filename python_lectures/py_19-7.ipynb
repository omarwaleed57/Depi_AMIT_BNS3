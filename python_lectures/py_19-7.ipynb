{
 "cells": [
  {
   "cell_type": "code",
   "execution_count": 127,
   "id": "0d27df45",
   "metadata": {},
   "outputs": [],
   "source": [
    "class Student:\n",
    "    name = \"Omar\"\n",
    "    age = 21\n",
    "    gpa = 3\n",
    "    gender = \"Male\"\n",
    "    \n",
    "    def info(self):\n",
    "        \"\"\"\n",
    "        \n",
    "        This info() gets information about students\n",
    "        \n",
    "        \"\"\"\n",
    "        print(\"Hello\")"
   ]
  },
  {
   "cell_type": "code",
   "execution_count": 128,
   "id": "feb80b7f",
   "metadata": {},
   "outputs": [],
   "source": [
    "s1 = Student()"
   ]
  },
  {
   "cell_type": "code",
   "execution_count": 129,
   "id": "c332547e",
   "metadata": {},
   "outputs": [
    {
     "data": {
      "text/plain": [
       "20"
      ]
     },
     "execution_count": 129,
     "metadata": {},
     "output_type": "execute_result"
    }
   ],
   "source": [
    "s1.name = \"Aya\"\n",
    "s1.name\n",
    "s1.age = 20\n",
    "s1.age"
   ]
  },
  {
   "cell_type": "code",
   "execution_count": 130,
   "id": "41120cea",
   "metadata": {},
   "outputs": [
    {
     "name": "stdout",
     "output_type": "stream",
     "text": [
      "Hello\n"
     ]
    }
   ],
   "source": [
    "s1.info()"
   ]
  },
  {
   "cell_type": "code",
   "execution_count": 131,
   "id": "4f40cae0",
   "metadata": {},
   "outputs": [
    {
     "name": "stdout",
     "output_type": "stream",
     "text": [
      "<__main__.test object at 0x000001D87503BFE0>\n",
      "<__main__.test object at 0x000001D87503BFE0>\n"
     ]
    }
   ],
   "source": [
    "class test:\n",
    "    def info(self):\n",
    "        print(self)\n",
    "        \n",
    "        \n",
    "x = test()\n",
    "print(x)\n",
    "x.info()"
   ]
  },
  {
   "cell_type": "code",
   "execution_count": 132,
   "id": "517a6a0e",
   "metadata": {},
   "outputs": [],
   "source": [
    "class calc:\n",
    "    \n",
    "    def __init__(self,num1,num2):           #--> constuctor\n",
    "        self.num1 = num1\n",
    "        self.num2 = num2\n",
    "    def addition(self):\n",
    "        return self.num1 + self.num2"
   ]
  },
  {
   "cell_type": "code",
   "execution_count": 133,
   "id": "19ee199e",
   "metadata": {},
   "outputs": [
    {
     "ename": "ValueError",
     "evalue": "invalid literal for int() with base 10: 'Escape'",
     "output_type": "error",
     "traceback": [
      "\u001b[31m---------------------------------------------------------------------------\u001b[39m",
      "\u001b[31mValueError\u001b[39m                                Traceback (most recent call last)",
      "\u001b[36mCell\u001b[39m\u001b[36m \u001b[39m\u001b[32mIn[133]\u001b[39m\u001b[32m, line 1\u001b[39m\n\u001b[32m----> \u001b[39m\u001b[32m1\u001b[39m c1 = calc(\u001b[38;5;28;43mint\u001b[39;49m\u001b[43m(\u001b[49m\u001b[38;5;28;43minput\u001b[39;49m\u001b[43m(\u001b[49m\u001b[43m)\u001b[49m\u001b[43m)\u001b[49m,\u001b[38;5;28mint\u001b[39m(\u001b[38;5;28minput\u001b[39m()))\n\u001b[32m      2\u001b[39m c1.addition()\n",
      "\u001b[31mValueError\u001b[39m: invalid literal for int() with base 10: 'Escape'"
     ]
    }
   ],
   "source": [
    "c1 = calc(int(input()),int(input()))\n",
    "c1.addition()"
   ]
  },
  {
   "cell_type": "code",
   "execution_count": 134,
   "id": "e28550ef",
   "metadata": {},
   "outputs": [],
   "source": [
    "class student:\n",
    "    def __init__(self,name):\n",
    "        self.name = name\n",
    "        "
   ]
  },
  {
   "cell_type": "code",
   "execution_count": 135,
   "id": "088acb5f",
   "metadata": {},
   "outputs": [],
   "source": [
    "s1 = student(\"omar\")"
   ]
  },
  {
   "cell_type": "code",
   "execution_count": 136,
   "id": "54e6f53d",
   "metadata": {},
   "outputs": [],
   "source": [
    "class person:\n",
    "    pass\n",
    "\n",
    "\n",
    "\n",
    "class student(person):\n",
    "    pass"
   ]
  },
  {
   "cell_type": "code",
   "execution_count": 137,
   "id": "fec8f167",
   "metadata": {},
   "outputs": [],
   "source": [
    "from abc import ABC, abstractmethod\n",
    "\n",
    "class Animal(ABC):\n",
    "    @abstractmethod\n",
    "    def move(self):\n",
    "        pass\n",
    "    \n",
    "    \n",
    "    \n",
    "class Bird(Animal):\n",
    "    def move(self):\n",
    "        print(\"Move from Bird\")\n",
    "        \n",
    "class cat(Animal):\n",
    "    def move(self):\n",
    "        print(\"Move from cat\")"
   ]
  },
  {
   "cell_type": "code",
   "execution_count": null,
   "id": "2ed41519",
   "metadata": {},
   "outputs": [
    {
     "name": "stdout",
     "output_type": "stream",
     "text": [
      "Move from Bird\n",
      "Move from cat\n"
     ]
    }
   ],
   "source": [
    "a = Bird()\n",
    "a.move()\n",
    "a = cat()\n",
    "a.move()"
   ]
  },
  {
   "cell_type": "code",
   "execution_count": null,
   "id": "ab8204f6",
   "metadata": {},
   "outputs": [
    {
     "name": "stdout",
     "output_type": "stream",
     "text": [
      "Move from cat\n"
     ]
    }
   ],
   "source": [
    "b = cat()\n",
    "b.move()"
   ]
  },
  {
   "cell_type": "code",
   "execution_count": null,
   "id": "dec23eaf",
   "metadata": {},
   "outputs": [],
   "source": [
    "\"\"\"\n",
    "\n",
    "\n",
    "\n",
    "\"\"\"\n",
    "\n",
    "\n",
    "\n",
    "class car:\n",
    "    # private attribute\n",
    "    __engin_capacity = \"2000cc\"\n",
    "    \n",
    "def __start_engin(self):\n",
    "    print(\"Engin started\")"
   ]
  },
  {
   "cell_type": "code",
   "execution_count": null,
   "id": "5dc58d6a",
   "metadata": {},
   "outputs": [
    {
     "ename": "AttributeError",
     "evalue": "'car' object has no attribute '__start_engin'",
     "output_type": "error",
     "traceback": [
      "\u001b[31m---------------------------------------------------------------------------\u001b[39m",
      "\u001b[31mAttributeError\u001b[39m                            Traceback (most recent call last)",
      "\u001b[36mCell\u001b[39m\u001b[36m \u001b[39m\u001b[32mIn[4]\u001b[39m\u001b[32m, line 2\u001b[39m\n\u001b[32m      1\u001b[39m c1 = car()\n\u001b[32m----> \u001b[39m\u001b[32m2\u001b[39m \u001b[43mc1\u001b[49m\u001b[43m.\u001b[49m\u001b[43m__start_engin\u001b[49m()\n",
      "\u001b[31mAttributeError\u001b[39m: 'car' object has no attribute '__start_engin'"
     ]
    }
   ],
   "source": [
    "# c1 = car()\n",
    "# c1.__start_engin()"
   ]
  },
  {
   "cell_type": "code",
   "execution_count": null,
   "id": "0dc1eb32",
   "metadata": {},
   "outputs": [],
   "source": []
  },
  {
   "cell_type": "code",
   "execution_count": null,
   "id": "68d8959c",
   "metadata": {},
   "outputs": [],
   "source": []
  }
 ],
 "metadata": {
  "kernelspec": {
   "display_name": ".venv",
   "language": "python",
   "name": "python3"
  },
  "language_info": {
   "codemirror_mode": {
    "name": "ipython",
    "version": 3
   },
   "file_extension": ".py",
   "mimetype": "text/x-python",
   "name": "python",
   "nbconvert_exporter": "python",
   "pygments_lexer": "ipython3",
   "version": "3.12.10"
  }
 },
 "nbformat": 4,
 "nbformat_minor": 5
}

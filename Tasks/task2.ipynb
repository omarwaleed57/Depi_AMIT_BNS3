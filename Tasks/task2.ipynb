{
 "cells": [
  {
   "cell_type": "code",
   "execution_count": 5,
   "id": "578821c8",
   "metadata": {},
   "outputs": [
    {
     "name": "stdout",
     "output_type": "stream",
     "text": [
      "Welcome to the simple calculator\n",
      "exiting calculator. goodbye\n"
     ]
    }
   ],
   "source": [
    "str_1 = \"Welcome to the simple calculator\"\n",
    "print(str_1)\n",
    "\n",
    "operator = input(\"\"\"select an operator: \n",
    "1.addition(+)\n",
    "2.subtraction(-) \n",
    "3.multiplication(*)\n",
    "4.division(/)\n",
    "enter your choice (1/2/3/4) or 'exit' to quit\n",
    "\"\"\")\n",
    "\n",
    "if operator == \"1\":\n",
    "    print(num_1+num_2)\n",
    "elif operator == \"2\":\n",
    "    print(num_1-num_2)\n",
    "elif operator == \"3\":\n",
    "    print(num_1*num_2)\n",
    "elif operator == \"4\":\n",
    "    print(num_1/num_2)\n",
    "elif operator == \"exit\":\n",
    "    print(\"exiting calculator. goodbye\")\n",
    "    \n",
    "    \n",
    "num_1 = float(input(\"enter your first number\"))\n",
    "num_2 = float(input(\"enter your second number\"))"
   ]
  },
  {
   "cell_type": "code",
   "execution_count": null,
   "id": "5bc75132",
   "metadata": {},
   "outputs": [],
   "source": []
  },
  {
   "cell_type": "code",
   "execution_count": null,
   "id": "649f0aed",
   "metadata": {},
   "outputs": [],
   "source": []
  }
 ],
 "metadata": {
  "kernelspec": {
   "display_name": ".venv",
   "language": "python",
   "name": "python3"
  },
  "language_info": {
   "codemirror_mode": {
    "name": "ipython",
    "version": 3
   },
   "file_extension": ".py",
   "mimetype": "text/x-python",
   "name": "python",
   "nbconvert_exporter": "python",
   "pygments_lexer": "ipython3",
   "version": "3.12.10"
  }
 },
 "nbformat": 4,
 "nbformat_minor": 5
}

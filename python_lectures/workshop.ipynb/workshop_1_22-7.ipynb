{
 "cells": [
  {
   "cell_type": "code",
   "execution_count": null,
   "id": "d7da60e5",
   "metadata": {},
   "outputs": [],
   "source": [
    "\"\"\"\n",
    "doc.................\n",
    "\n",
    "\"\"\"\n",
    "class Student :\n",
    "    _id_counter = 1\n",
    "    \n",
    "    def __init__(self,name):\n",
    "        self.name = name\n",
    "        student._id_counter += 1\n",
    "        self.student_id = student._id_counter\n",
    "        self.grade = {}\n",
    "        self.enrolled_courses = []\n",
    "    def __str__(self):\n",
    "        return f\"Student ID: {self.student_id}, Name: {self.name}, Grades : {self.grade}\"    \n",
    "    \n",
    "    def __repr__(self):\n",
    "        return f\"Student ID: {self.student_id}, Name: {self.name}, Grades : {self.grade}\"    \n",
    "    \n",
    "    def info(self) :\n",
    "        return s1.name\n",
    "    \n",
    "    def add_grade(self,course_id,grade) :\n",
    "        self.grade[course_id] = grade\n",
    "    def enrolled_in_course(self,course_name) :\n",
    "        self.enrolled_courses.append(course_name)\n",
    "        "
   ]
  },
  {
   "cell_type": "code",
   "execution_count": null,
   "id": "e122c100",
   "metadata": {},
   "outputs": [],
   "source": []
  },
  {
   "cell_type": "code",
   "execution_count": null,
   "id": "9a25edb3",
   "metadata": {},
   "outputs": [],
   "source": []
  },
  {
   "cell_type": "code",
   "execution_count": null,
   "id": "161929ee",
   "metadata": {},
   "outputs": [],
   "source": [
    "class Course:\n",
    "    _id_counter_ = 1\n",
    "    \n",
    "    def __init__(self,name):\n",
    "        self.course_id = course._id_counter_\n",
    "        course._id_counter_ += 1\n",
    "        self.name = name\n",
    "        self.enrolled_students = []\n",
    "        \n",
    "        \n",
    "    def __str__(self):\n",
    "        return f\"Course Id: {self.course_id}, Course Name: {self.name}, Enrolled: {len(self.enrolled_students)}\"   \n",
    "    \n",
    "    def __repr__(self):\n",
    "        return f\"Course Id: {self.course_id}, Course Name: {self.name}, Enrolled: {len(self.enrolled_students)}\"   \n",
    "    \n",
    "    def enrolled_students(self,student):\n",
    "        if student not in self.enrolled_students:\n",
    "            self.enrolled_students.append(student)\n",
    "            print(\"student enrolled succeful\")\n",
    "        else :\n",
    "            print(\"Student already enrolled\")\n",
    "        \n",
    "    def remove_student(self,student):\n",
    "        for course in self.course.enrolled_students:\n",
    "            course.enrolled_students.remove(student)\n",
    "    \n",
    "    \n",
    "    "
   ]
  },
  {
   "cell_type": "code",
   "execution_count": 36,
   "id": "45fc72c2",
   "metadata": {},
   "outputs": [
    {
     "data": {
      "text/plain": [
       "'Course Id: 1, Course Name: DS, Enrolled: 0'"
      ]
     },
     "execution_count": 36,
     "metadata": {},
     "output_type": "execute_result"
    }
   ],
   "source": [
    "c1 = course(\"DS\")\n",
    "str(c1)"
   ]
  },
  {
   "cell_type": "code",
   "execution_count": 25,
   "id": "8b61256b",
   "metadata": {},
   "outputs": [
    {
     "ename": "ImportError",
     "evalue": "cannot import name 'Course' from 'course' (c:\\Users\\Omar\\Desktop\\DEPI 1\\Depi_AMIT_BNS3\\Depi_AMIT_BNS3\\python_lectures\\workshop.ipynb\\course.py)",
     "output_type": "error",
     "traceback": [
      "\u001b[31m---------------------------------------------------------------------------\u001b[39m",
      "\u001b[31mImportError\u001b[39m                               Traceback (most recent call last)",
      "\u001b[36mCell\u001b[39m\u001b[36m \u001b[39m\u001b[32mIn[25]\u001b[39m\u001b[32m, line 1\u001b[39m\n\u001b[32m----> \u001b[39m\u001b[32m1\u001b[39m \u001b[38;5;28;01mfrom\u001b[39;00m\u001b[38;5;250m \u001b[39m\u001b[34;01mcourse\u001b[39;00m\u001b[38;5;250m \u001b[39m\u001b[38;5;28;01mimport\u001b[39;00m Course\n\u001b[32m      2\u001b[39m \u001b[38;5;28;01mfrom\u001b[39;00m\u001b[38;5;250m \u001b[39m\u001b[34;01mstudent\u001b[39;00m\u001b[38;5;250m \u001b[39m\u001b[38;5;28;01mimport\u001b[39;00m Student\n\u001b[32m      5\u001b[39m \u001b[38;5;28;01mclass\u001b[39;00m\u001b[38;5;250m \u001b[39m\u001b[34;01mSystem_manger\u001b[39;00m:\n",
      "\u001b[31mImportError\u001b[39m: cannot import name 'Course' from 'course' (c:\\Users\\Omar\\Desktop\\DEPI 1\\Depi_AMIT_BNS3\\Depi_AMIT_BNS3\\python_lectures\\workshop.ipynb\\course.py)"
     ]
    }
   ],
   "source": [
    "from course import Course\n",
    "from student import Student\n",
    "\n",
    "\n",
    "class System_manger:\n",
    "    \n",
    "    def __init__(self):\n",
    "        self.student = {}\n",
    "        self.courses = {}\n",
    "       \n",
    "       \n",
    "    def add_student(self,name):\n",
    "        student = student(name)\n",
    "        self.student[student.student_id] = student\n",
    "        print(\"Student added succesfully\")\n",
    "        \n",
    "        return student.student_id\n",
    "    \n",
    "    \n",
    "    def remove_student(self,student_id):\n",
    "        if student_id in self.student:\n",
    "            student = self.student(student_id)\n",
    "            if not student.enrolled_courses:\n",
    "                del student_id\n",
    "                print(\"student removed succesfuly\")\n",
    "            else:\n",
    "                print(\"student has enrolled courses. cannot remove\")\n",
    "        else:\n",
    "            print(\"Invalid Student Id\")\n",
    "            \n",
    "    def enroll_course(self,student_id,course_id):\n",
    "        if student_id in self.student and course_id in self.courses:\n",
    "            student = self.student[student_id]\n",
    "            course = self.courses[course_id]\n",
    "            \n",
    "            if course.name not in student.enrolled_courses:\n",
    "                student.enroll_in_course(course.name)\n",
    "                course.enroll_student(student.name)\n",
    "                print(\"student enrolled in course succesful\")\n",
    "            else:\n",
    "                print(\"Student is already enrolled in the courses\")\n",
    "        else:\n",
    "            print(\"Invalid Student or Course Id\")\n",
    "            \n",
    "            \n",
    "            \n",
    "    def record_grade(self,studnt_id,course_id,grade):\n",
    "        if studnt_id in self.student and course_id in self.courses:\n",
    "            student = self.student[studnt_id]\n",
    "            course = self.courses[course_id]\n",
    "            student.add_grade(course.name,grade)\n",
    "            print(\"Grade recorded succesful\")\n",
    "        else:\n",
    "            print(\"Invalid student Id or course Id\")\n",
    "            \n",
    "            \n",
    "    def get_all_student(self):\n",
    "        return list(self.student.values)\n",
    "    \n",
    "    \n",
    "    def get_all_courses(self):\n",
    "        return list(self.courses.values)\n",
    "    \n",
    "    "
   ]
  },
  {
   "cell_type": "code",
   "execution_count": 19,
   "id": "40504c99",
   "metadata": {},
   "outputs": [
    {
     "ename": "SyntaxError",
     "evalue": "cannot delete function call (system_manger.py, line 20)",
     "output_type": "error",
     "traceback": [
      "Traceback \u001b[36m(most recent call last)\u001b[39m:\n",
      "  File \u001b[92mc:\\Users\\Omar\\Desktop\\DEPI 1\\Depi_AMIT_BNS3\\Depi_AMIT_BNS3\\.venv\\Lib\\site-packages\\IPython\\core\\interactiveshell.py:3699\u001b[39m in \u001b[95mrun_code\u001b[39m\n    exec(code_obj, self.user_global_ns, self.user_ns)\n",
      "\u001b[36m  \u001b[39m\u001b[36mCell\u001b[39m\u001b[36m \u001b[39m\u001b[32mIn[19]\u001b[39m\u001b[32m, line 1\u001b[39m\n\u001b[31m    \u001b[39m\u001b[31mfrom system_manger import System_manger\u001b[39m\n",
      "  \u001b[36mFile \u001b[39m\u001b[32mc:\\Users\\Omar\\Desktop\\DEPI 1\\Depi_AMIT_BNS3\\Depi_AMIT_BNS3\\python_lectures\\workshop.ipynb\\system_manger.py:20\u001b[39m\n\u001b[31m    \u001b[39m\u001b[31mdel self.student(student_id)\u001b[39m\n        ^\n\u001b[31mSyntaxError\u001b[39m\u001b[31m:\u001b[39m cannot delete function call\n"
     ]
    }
   ],
   "source": [
    "from system_manger import System_manger\n",
    "\n",
    "def show_menu():\n",
    "    print(\"1. Add Student\")\n",
    "    print(\"2. Remove Student\")\n",
    "    print(\"3. Add Course\")\n",
    "    print(\"4. Remove Course\")\n",
    "    print(\"5. Search Courses \")\n",
    "    print(\"6. Recorde Grade\")\n",
    "    print(\"7. Get all student\")\n",
    "    print(\"8. Get all courses\")\n",
    "    print(\"9. Enroll course\")\n",
    "    print(\"10. Exit\")\n",
    "    \n",
    "    \n",
    "    \n",
    "if __name__ == \"__main__\":\n",
    "    show_menu()\n",
    "\n",
    "    "
   ]
  }
 ],
 "metadata": {
  "kernelspec": {
   "display_name": ".venv",
   "language": "python",
   "name": "python3"
  },
  "language_info": {
   "codemirror_mode": {
    "name": "ipython",
    "version": 3
   },
   "file_extension": ".py",
   "mimetype": "text/x-python",
   "name": "python",
   "nbconvert_exporter": "python",
   "pygments_lexer": "ipython3",
   "version": "3.12.10"
  }
 },
 "nbformat": 4,
 "nbformat_minor": 5
}

{
 "cells": [
  {
   "cell_type": "code",
   "execution_count": 1,
   "id": "9d222ff1",
   "metadata": {},
   "outputs": [],
   "source": [
    "import os\n",
    "import sys"
   ]
  },
  {
   "cell_type": "code",
   "execution_count": null,
   "id": "b3e82143",
   "metadata": {},
   "outputs": [],
   "source": []
  },
  {
   "cell_type": "code",
   "execution_count": 4,
   "id": "e2c099d2",
   "metadata": {},
   "outputs": [
    {
     "name": "stdout",
     "output_type": "stream",
     "text": [
      "Hello Depi \n",
      "\n",
      "Hello Depi \n",
      "\n",
      "Hello Depi \n",
      "\n",
      "Hello Depi \n",
      "\n",
      "Hello Depi \n",
      "\n",
      "Hello Depi \n",
      "\n",
      "Hello Depi \n",
      "\n"
     ]
    }
   ],
   "source": [
    "# print(f.read())\n",
    "all_lines = f.readlines()\n",
    "for line in all_lines :\n",
    "    print(line)\n",
    "f.close()"
   ]
  },
  {
   "cell_type": "code",
   "execution_count": 9,
   "id": "9bd57810",
   "metadata": {},
   "outputs": [],
   "source": [
    "f = open(\"C:/Users/Omar/Desktop/DEPI 1/Depi_AMIT_BNS3/Depi_AMIT_BNS3/test.txt\",\"w\")\n",
    "f.write(\"Hello Again Depi\")\n",
    "f.close()"
   ]
  },
  {
   "cell_type": "code",
   "execution_count": 10,
   "id": "b9da7a32",
   "metadata": {},
   "outputs": [
    {
     "name": "stdout",
     "output_type": "stream",
     "text": [
      "Hello Again Depi\n"
     ]
    }
   ],
   "source": [
    "f = open(\"C:/Users/Omar/Desktop/DEPI 1/Depi_AMIT_BNS3/Depi_AMIT_BNS3/test.txt\",\"r\")\n",
    "print(f.read())\n",
    "f.close()"
   ]
  },
  {
   "cell_type": "code",
   "execution_count": 11,
   "id": "f8a7fef4",
   "metadata": {},
   "outputs": [
    {
     "data": {
      "text/plain": [
       "<function TextIOWrapper.close()>"
      ]
     },
     "execution_count": 11,
     "metadata": {},
     "output_type": "execute_result"
    }
   ],
   "source": [
    "f = open(\"C:/Users/Omar/Desktop/DEPI 1/Depi_AMIT_BNS3/Depi_AMIT_BNS3/test.txt\",\"a\")\n",
    "for i in range (30):\n",
    "    f.write(\"\\nI Love Python\"+str(i))\n",
    "f.close"
   ]
  },
  {
   "cell_type": "code",
   "execution_count": null,
   "id": "5b263f3a",
   "metadata": {},
   "outputs": [],
   "source": []
  }
 ],
 "metadata": {
  "kernelspec": {
   "display_name": ".venv",
   "language": "python",
   "name": "python3"
  },
  "language_info": {
   "codemirror_mode": {
    "name": "ipython",
    "version": 3
   },
   "file_extension": ".py",
   "mimetype": "text/x-python",
   "name": "python",
   "nbconvert_exporter": "python",
   "pygments_lexer": "ipython3",
   "version": "3.12.10"
  }
 },
 "nbformat": 4,
 "nbformat_minor": 5
}

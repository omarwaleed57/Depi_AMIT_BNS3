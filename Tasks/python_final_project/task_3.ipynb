{
 "cells": [
  {
   "cell_type": "markdown",
   "id": "bf33a545",
   "metadata": {},
   "source": [
    "## Task-3\n",
    "\n",
    "Create an abstract class Animal and derive specific animal classes from it. Each derived class should implement the abstract methods defined in the Animal class.\n",
    "\n",
    "Instructions:\n",
    "\n",
    "Define an Abstract Class:\n",
    "\n",
    "- Create an abstract class named Animal.\n",
    "\n",
    "This class should have the following:\n",
    "\n",
    "- An abstract method make_sound(self) which will be implemented by all subclasses.\n",
    "- A concrete method describe(self) that prints a general description of the animal.\n",
    "\n",
    "Create Derived Classes:\n",
    "\n",
    "- Create at least three subclasses of Animal, such as Dog, Cat, and Cow.\n",
    "- Each subclass must implement the make_sound(self) method to return the sound the animal makes.\n",
    "\n",
    "Test Your Classes:\n",
    "\n",
    "- Instantiate each subclass and call both the make_sound(self) and describe(self) methods.\n",
    "- Ensure that the output is clear and displays the correct sound for each animal."
   ]
  },
  {
   "cell_type": "code",
   "execution_count": 8,
   "id": "c5337d79",
   "metadata": {},
   "outputs": [
    {
     "name": "stdout",
     "output_type": "stream",
     "text": [
      "Woof!\n",
      "This is a dog.\n",
      "Meow!\n",
      "This is a cat.\n",
      "Moo!\n",
      "This is a cow.\n"
     ]
    }
   ],
   "source": [
    "from abc import ABC, abstractmethod\n",
    "\n",
    "# Abstract Class\n",
    "class Animal(ABC):\n",
    "\n",
    "    @abstractmethod\n",
    "    def make_sound(self): #Abstract method\n",
    "        pass  \n",
    "\n",
    "    def describe(self):    #Concrete method\n",
    "        print(\"This is an animal.\")\n",
    "# Subclasses\n",
    "class Dog(Animal):\n",
    "    def make_sound(self):\n",
    "        print(\"Woof!\")\n",
    "    def describe(self):    #Concrete method\n",
    "        print(\"This is a dog.\")\n",
    "class Cat(Animal):\n",
    "    def make_sound(self):\n",
    "        print(\"Meow!\")\n",
    "    def describe(self):    #Concrete method\n",
    "        print(\"This is a cat.\")\n",
    "class Cow(Animal):\n",
    "    def make_sound(self):\n",
    "        print(\"Moo!\")\n",
    "    def describe(self):    #Concrete method\n",
    "        print(\"This is a cow.\")\n",
    "\n",
    "dog = Dog()\n",
    "dog.make_sound()\n",
    "dog.describe()\n",
    "\n",
    "cat = Cat()\n",
    "cat.make_sound()\n",
    "cat.describe()\n",
    "\n",
    "cow = Cow()\n",
    "cow.make_sound()\n",
    "cow.describe()"
   ]
  }
 ],
 "metadata": {
  "kernelspec": {
   "display_name": "Python 3",
   "language": "python",
   "name": "python3"
  },
  "language_info": {
   "codemirror_mode": {
    "name": "ipython",
    "version": 3
   },
   "file_extension": ".py",
   "mimetype": "text/x-python",
   "name": "python",
   "nbconvert_exporter": "python",
   "pygments_lexer": "ipython3",
   "version": "3.12.9"
  }
 },
 "nbformat": 4,
 "nbformat_minor": 5
}

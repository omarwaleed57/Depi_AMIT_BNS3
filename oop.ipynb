{
 "cells": [
  {
   "cell_type": "code",
   "execution_count": 52,
   "id": "b0ae84c3",
   "metadata": {},
   "outputs": [],
   "source": [
    "class Student:                    #the name must be CamelCases or all capital\n",
    "    name = \"Omar\"\n",
    "    age = 35\n",
    "    GPA = 2.92\n",
    "    gender = \"Male\"\n",
    "    \n",
    "    def info(self):\n",
    "        \"\"\"\n",
    "        this info()get information about student\n",
    "        \"\"\"\n",
    "        print(\"Hello\")"
   ]
  },
  {
   "cell_type": "code",
   "execution_count": 53,
   "id": "9b9b5832",
   "metadata": {},
   "outputs": [],
   "source": [
    "s1 = Student()"
   ]
  },
  {
   "cell_type": "code",
   "execution_count": 54,
   "id": "c46e1bd3",
   "metadata": {},
   "outputs": [
    {
     "name": "stdout",
     "output_type": "stream",
     "text": [
      "Hello\n"
     ]
    }
   ],
   "source": [
    "s1.name = \"Aya\"\n",
    "s1.age = 20\n",
    "s1.info()"
   ]
  },
  {
   "cell_type": "code",
   "execution_count": 55,
   "id": "53f84012",
   "metadata": {},
   "outputs": [
    {
     "name": "stdout",
     "output_type": "stream",
     "text": [
      "<__main__.test object at 0x0000011F423B8380>\n",
      "<__main__.test object at 0x0000011F423B8380>\n"
     ]
    }
   ],
   "source": [
    "class test:\n",
    "    def info(self):\n",
    "        print(self)\n",
    "        \n",
    "        \n",
    "x = test()\n",
    "print(x)\n",
    "x.info()"
   ]
  },
  {
   "cell_type": "code",
   "execution_count": 56,
   "id": "7186ea7a",
   "metadata": {},
   "outputs": [],
   "source": [
    "class calc:\n",
    "    \n",
    "    def __init__(self,num1,num2):           #--> constuctor\n",
    "        self.num1 = num1\n",
    "        self.num2 = num2\n",
    "    def addition(self):\n",
    "        return self.num1 + self.num2"
   ]
  },
  {
   "cell_type": "code",
   "execution_count": 57,
   "id": "35e77ba5",
   "metadata": {},
   "outputs": [],
   "source": [
    "c1 = calc(20,30)"
   ]
  },
  {
   "cell_type": "code",
   "execution_count": 58,
   "id": "d30ebd08",
   "metadata": {},
   "outputs": [],
   "source": [
    "class person:\n",
    "    pass\n",
    "\n",
    "\n",
    "\n",
    "\n",
    "class student(person):\n",
    "    pass"
   ]
  },
  {
   "cell_type": "code",
   "execution_count": 59,
   "id": "029a159d",
   "metadata": {},
   "outputs": [],
   "source": [
    "from abc import ABC, abstractmethod\n",
    "\n",
    "class animal(ABC):\n",
    "    @abstractmethod\n",
    "    def move(self):\n",
    "        pass\n",
    "    \n",
    "class bird(animal):\n",
    "    \n",
    "    pass\n",
    "        \n",
    "\n",
    "class cat(animal):\n",
    "    def move(self):\n",
    "        print(\"move from cat\")\n",
    "    "
   ]
  },
  {
   "cell_type": "code",
   "execution_count": 60,
   "id": "90e61e0f",
   "metadata": {},
   "outputs": [
    {
     "ename": "TypeError",
     "evalue": "Can't instantiate abstract class bird without an implementation for abstract method 'move'",
     "output_type": "error",
     "traceback": [
      "\u001b[31m---------------------------------------------------------------------------\u001b[39m",
      "\u001b[31mTypeError\u001b[39m                                 Traceback (most recent call last)",
      "\u001b[36mCell\u001b[39m\u001b[36m \u001b[39m\u001b[32mIn[60]\u001b[39m\u001b[32m, line 1\u001b[39m\n\u001b[32m----> \u001b[39m\u001b[32m1\u001b[39m a = \u001b[43mbird\u001b[49m\u001b[43m(\u001b[49m\u001b[43m)\u001b[49m\n\u001b[32m      2\u001b[39m a.move()\n",
      "\u001b[31mTypeError\u001b[39m: Can't instantiate abstract class bird without an implementation for abstract method 'move'"
     ]
    }
   ],
   "source": [
    "a = bird()\n",
    "a.move()"
   ]
  },
  {
   "cell_type": "code",
   "execution_count": null,
   "id": "732b4375",
   "metadata": {},
   "outputs": [
    {
     "name": "stdout",
     "output_type": "stream",
     "text": [
      "move from cat\n"
     ]
    }
   ],
   "source": [
    "b = cat()\n",
    "b.move()"
   ]
  },
  {
   "cell_type": "code",
   "execution_count": 65,
   "id": "bf13ceb4",
   "metadata": {},
   "outputs": [],
   "source": [
    "\"\"\"\n",
    "    \n",
    "    \n",
    "    \n",
    "    \n",
    "\"\"\"\n",
    "\n",
    "class car:\n",
    "    #Private attribute\n",
    "    __engine_capacity =\"2000cc\"\n",
    "    \n",
    "def __start_engine(self):\n",
    "    print(\"engine started\")\n"
   ]
  },
  {
   "cell_type": "code",
   "execution_count": 66,
   "id": "545ba991",
   "metadata": {},
   "outputs": [],
   "source": [
    "c1 = car()"
   ]
  },
  {
   "cell_type": "code",
   "execution_count": 69,
   "id": "b25e7868",
   "metadata": {},
   "outputs": [
    {
     "ename": "AttributeError",
     "evalue": "'car' object has no attribute 'start_engine'",
     "output_type": "error",
     "traceback": [
      "\u001b[31m---------------------------------------------------------------------------\u001b[39m",
      "\u001b[31mAttributeError\u001b[39m                            Traceback (most recent call last)",
      "\u001b[36mCell\u001b[39m\u001b[36m \u001b[39m\u001b[32mIn[69]\u001b[39m\u001b[32m, line 1\u001b[39m\n\u001b[32m----> \u001b[39m\u001b[32m1\u001b[39m \u001b[43mc1\u001b[49m\u001b[43m.\u001b[49m\u001b[43mstart_engine\u001b[49m()\n",
      "\u001b[31mAttributeError\u001b[39m: 'car' object has no attribute 'start_engine'"
     ]
    }
   ],
   "source": [
    "c1.start_engine()"
   ]
  },
  {
   "cell_type": "code",
   "execution_count": null,
   "id": "2fb02d03",
   "metadata": {},
   "outputs": [],
   "source": []
  }
 ],
 "metadata": {
  "kernelspec": {
   "display_name": ".venv",
   "language": "python",
   "name": "python3"
  },
  "language_info": {
   "codemirror_mode": {
    "name": "ipython",
    "version": 3
   },
   "file_extension": ".py",
   "mimetype": "text/x-python",
   "name": "python",
   "nbconvert_exporter": "python",
   "pygments_lexer": "ipython3",
   "version": "3.12.10"
  }
 },
 "nbformat": 4,
 "nbformat_minor": 5
}

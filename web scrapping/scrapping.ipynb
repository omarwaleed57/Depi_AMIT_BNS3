{
 "cells": [
  {
   "cell_type": "code",
   "execution_count": 5,
   "id": "4ae97379",
   "metadata": {},
   "outputs": [
    {
     "name": "stdout",
     "output_type": "stream",
     "text": [
      "Note: you may need to restart the kernel to use updated packages.\n"
     ]
    },
    {
     "name": "stderr",
     "output_type": "stream",
     "text": [
      "ERROR: Could not find a version that satisfies the requirement beautiflsoup4 (from versions: none)\n",
      "ERROR: No matching distribution found for beautiflsoup4\n"
     ]
    }
   ],
   "source": [
    "pip install beautiflsoup4"
   ]
  },
  {
   "cell_type": "code",
   "execution_count": 6,
   "id": "6454e851",
   "metadata": {},
   "outputs": [
    {
     "name": "stdout",
     "output_type": "stream",
     "text": [
      "Requirement already satisfied: lxml in c:\\users\\omar\\desktop\\depi 1\\depi_amit_bns3\\depi_amit_bns3\\.venv\\lib\\site-packages (6.0.0)\n"
     ]
    }
   ],
   "source": [
    "!pip install lxml"
   ]
  },
  {
   "cell_type": "code",
   "execution_count": 3,
   "id": "5d017640",
   "metadata": {},
   "outputs": [
    {
     "name": "stdout",
     "output_type": "stream",
     "text": [
      "Collecting bs4\n",
      "  Downloading bs4-0.0.2-py2.py3-none-any.whl.metadata (411 bytes)\n",
      "Collecting beautifulsoup4 (from bs4)\n",
      "  Downloading beautifulsoup4-4.13.4-py3-none-any.whl.metadata (3.8 kB)\n",
      "Collecting soupsieve>1.2 (from beautifulsoup4->bs4)\n",
      "  Downloading soupsieve-2.7-py3-none-any.whl.metadata (4.6 kB)\n",
      "Collecting typing-extensions>=4.0.0 (from beautifulsoup4->bs4)\n",
      "  Downloading typing_extensions-4.14.1-py3-none-any.whl.metadata (3.0 kB)\n",
      "Downloading bs4-0.0.2-py2.py3-none-any.whl (1.2 kB)\n",
      "Downloading beautifulsoup4-4.13.4-py3-none-any.whl (187 kB)\n",
      "Downloading soupsieve-2.7-py3-none-any.whl (36 kB)\n",
      "Downloading typing_extensions-4.14.1-py3-none-any.whl (43 kB)\n",
      "Installing collected packages: typing-extensions, soupsieve, beautifulsoup4, bs4\n",
      "\n",
      "   ---------------------------------------- 0/4 [typing-extensions]\n",
      "   ---------- ----------------------------- 1/4 [soupsieve]\n",
      "   ---------- ----------------------------- 1/4 [soupsieve]\n",
      "   ---------- ----------------------------- 1/4 [soupsieve]\n",
      "   ---------- ----------------------------- 1/4 [soupsieve]\n",
      "   -------------------- ------------------- 2/4 [beautifulsoup4]\n",
      "   -------------------- ------------------- 2/4 [beautifulsoup4]\n",
      "   -------------------- ------------------- 2/4 [beautifulsoup4]\n",
      "   -------------------- ------------------- 2/4 [beautifulsoup4]\n",
      "   -------------------- ------------------- 2/4 [beautifulsoup4]\n",
      "   -------------------- ------------------- 2/4 [beautifulsoup4]\n",
      "   -------------------- ------------------- 2/4 [beautifulsoup4]\n",
      "   -------------------- ------------------- 2/4 [beautifulsoup4]\n",
      "   -------------------- ------------------- 2/4 [beautifulsoup4]\n",
      "   -------------------- ------------------- 2/4 [beautifulsoup4]\n",
      "   -------------------- ------------------- 2/4 [beautifulsoup4]\n",
      "   -------------------- ------------------- 2/4 [beautifulsoup4]\n",
      "   -------------------- ------------------- 2/4 [beautifulsoup4]\n",
      "   -------------------- ------------------- 2/4 [beautifulsoup4]\n",
      "   -------------------- ------------------- 2/4 [beautifulsoup4]\n",
      "   -------------------- ------------------- 2/4 [beautifulsoup4]\n",
      "   -------------------- ------------------- 2/4 [beautifulsoup4]\n",
      "   -------------------- ------------------- 2/4 [beautifulsoup4]\n",
      "   ------------------------------ --------- 3/4 [bs4]\n",
      "   ---------------------------------------- 4/4 [bs4]\n",
      "\n",
      "Successfully installed beautifulsoup4-4.13.4 bs4-0.0.2 soupsieve-2.7 typing-extensions-4.14.1\n",
      "Note: you may need to restart the kernel to use updated packages.\n"
     ]
    }
   ],
   "source": [
    "pip install bs4"
   ]
  },
  {
   "cell_type": "code",
   "execution_count": null,
   "id": "51e098d2",
   "metadata": {},
   "outputs": [],
   "source": [
    "with open(\"C:/Users/Omar/Desktop/DEPI 1/Depi_AMIT_BNS3/Depi_AMIT_BNS3/web scrapping/home.html\",\"r\") as html_file:\n",
    "    content = html_file.read()\n",
    "print(content)"
   ]
  },
  {
   "cell_type": "code",
   "execution_count": null,
   "id": "f3cf9f2d",
   "metadata": {},
   "outputs": [
    {
     "name": "stdout",
     "output_type": "stream",
     "text": [
      "[<h5 class=\"card-title\">Python for Beginners</h5>, <h5 class=\"card-title\">Python Web Development</h5>, <h5 class=\"card-title\">Python Machine Learning</h5>]\n"
     ]
    },
    {
     "ename": "",
     "evalue": "",
     "output_type": "error",
     "traceback": [
      "\u001b[1;31mThe Kernel crashed while executing code in the current cell or a previous cell. \n",
      "\u001b[1;31mPlease review the code in the cell(s) to identify a possible cause of the failure. \n",
      "\u001b[1;31mClick <a href='https://aka.ms/vscodeJupyterKernelCrash'>here</a> for more info. \n",
      "\u001b[1;31mView Jupyter <a href='command:jupyter.viewOutput'>log</a> for further details."
     ]
    }
   ],
   "source": [
    "from bs4 import BeautifulSoup\n",
    "with open(\"C:/Users/Omar/Desktop/DEPI 1/Depi_AMIT_BNS3/Depi_AMIT_BNS3/web scrapping/home.html\",\"r\") as html_file:\n",
    "    content = html_file.read()\n",
    "    soup = BeautifulSoup(content,\"lxml\")\n",
    "    print(soup.find_all(\"h5\"))"
   ]
  },
  {
   "cell_type": "code",
   "execution_count": null,
   "id": "824cbd33",
   "metadata": {},
   "outputs": [],
   "source": []
  },
  {
   "cell_type": "code",
   "execution_count": null,
   "id": "1448ecd1",
   "metadata": {},
   "outputs": [],
   "source": []
  }
 ],
 "metadata": {
  "kernelspec": {
   "display_name": ".venv",
   "language": "python",
   "name": "python3"
  },
  "language_info": {
   "codemirror_mode": {
    "name": "ipython",
    "version": 3
   },
   "file_extension": ".py",
   "mimetype": "text/x-python",
   "name": "python",
   "nbconvert_exporter": "python",
   "pygments_lexer": "ipython3",
   "version": "3.12.10"
  }
 },
 "nbformat": 4,
 "nbformat_minor": 5
}

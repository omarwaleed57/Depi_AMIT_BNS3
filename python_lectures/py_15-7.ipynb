{
 "cells": [
  {
   "cell_type": "code",
   "execution_count": 62,
   "id": "53b8efc1",
   "metadata": {},
   "outputs": [],
   "source": [
    "def info_std(**name) :\n",
    "    \"\"\"\n",
    "\n",
    "    this function takes two input from user (his name and age)\n",
    "    parm_1 : take the name from the user\n",
    "    type_parm_1 : str\n",
    "    parm_2 : take age from user\n",
    "    type_parm_2 : int\n",
    "    return : return name and age of student\n",
    "    type_return : str , int\n",
    "    \n",
    "    \"\"\"\n",
    "    print(f\"My Name Is {name}\")\n",
    "    print(type(name))\n"
   ]
  },
  {
   "cell_type": "code",
   "execution_count": 63,
   "id": "947f3da8",
   "metadata": {},
   "outputs": [
    {
     "name": "stdout",
     "output_type": "stream",
     "text": [
      "My Name Is {'Key_1': 'omar', 'key_2': 'ali', 'Key_3': 'hussin', 'Key_4': 'mohamed'}\n",
      "<class 'dict'>\n"
     ]
    }
   ],
   "source": [
    "info_std(Key_1 = \"omar\",key_2 = \"ali\",Key_3 = \"hussin\",Key_4 = \"mohamed\")"
   ]
  },
  {
   "cell_type": "code",
   "execution_count": 64,
   "id": "0cac2fb0",
   "metadata": {},
   "outputs": [],
   "source": [
    "def sum_num(x) :\n",
    "    return lambda : x+10"
   ]
  },
  {
   "cell_type": "code",
   "execution_count": 65,
   "id": "de91fde3",
   "metadata": {},
   "outputs": [
    {
     "data": {
      "text/plain": [
       "20"
      ]
     },
     "execution_count": 65,
     "metadata": {},
     "output_type": "execute_result"
    }
   ],
   "source": [
    "sum_n = lambda x : x+10\n",
    "sum_n(10)"
   ]
  },
  {
   "cell_type": "code",
   "execution_count": 66,
   "id": "84a05591",
   "metadata": {},
   "outputs": [
    {
     "data": {
      "text/plain": [
       "<function __main__.sum_num(x)>"
      ]
     },
     "execution_count": 66,
     "metadata": {},
     "output_type": "execute_result"
    }
   ],
   "source": [
    "sum_num"
   ]
  },
  {
   "cell_type": "code",
   "execution_count": 67,
   "id": "87c25e07",
   "metadata": {},
   "outputs": [],
   "source": [
    "sum_1 = lambda x,y : x+y\n"
   ]
  },
  {
   "cell_type": "code",
   "execution_count": 68,
   "id": "4ee12c25",
   "metadata": {},
   "outputs": [
    {
     "data": {
      "text/plain": [
       "30"
      ]
     },
     "execution_count": 68,
     "metadata": {},
     "output_type": "execute_result"
    }
   ],
   "source": [
    "sum_1(10,20)"
   ]
  },
  {
   "cell_type": "code",
   "execution_count": 69,
   "id": "52867852",
   "metadata": {},
   "outputs": [],
   "source": [
    "def function_1(n) : \n",
    "    return lambda a : a*n"
   ]
  },
  {
   "cell_type": "code",
   "execution_count": 70,
   "id": "2cac9141",
   "metadata": {},
   "outputs": [
    {
     "data": {
      "text/plain": [
       "22"
      ]
     },
     "execution_count": 70,
     "metadata": {},
     "output_type": "execute_result"
    }
   ],
   "source": [
    "fun_1 =  function_1(11)\n",
    "fun_1(2)"
   ]
  },
  {
   "cell_type": "code",
   "execution_count": 71,
   "id": "12f90e32",
   "metadata": {},
   "outputs": [],
   "source": [
    "x = 0"
   ]
  },
  {
   "cell_type": "code",
   "execution_count": 72,
   "id": "474311bf",
   "metadata": {},
   "outputs": [
    {
     "ename": "ZeroDivisionError",
     "evalue": "division by zero",
     "output_type": "error",
     "traceback": [
      "\u001b[31m---------------------------------------------------------------------------\u001b[39m",
      "\u001b[31mZeroDivisionError\u001b[39m                         Traceback (most recent call last)",
      "\u001b[36mCell\u001b[39m\u001b[36m \u001b[39m\u001b[32mIn[72]\u001b[39m\u001b[32m, line 1\u001b[39m\n\u001b[32m----> \u001b[39m\u001b[32m1\u001b[39m \u001b[32;43m5\u001b[39;49m\u001b[43m/\u001b[49m\u001b[43mx\u001b[49m\n",
      "\u001b[31mZeroDivisionError\u001b[39m: division by zero"
     ]
    }
   ],
   "source": [
    "5/x"
   ]
  },
  {
   "cell_type": "code",
   "execution_count": null,
   "id": "9e01a3ff",
   "metadata": {},
   "outputs": [
    {
     "name": "stdout",
     "output_type": "stream",
     "text": [
      "Not Accept to devide by zero\n"
     ]
    }
   ],
   "source": [
    "try:\n",
    "    5/0\n",
    "except :\n",
    "    print(\"Not Accept to devide by zero\")"
   ]
  },
  {
   "cell_type": "code",
   "execution_count": null,
   "id": "2b9b142f",
   "metadata": {},
   "outputs": [
    {
     "name": "stdout",
     "output_type": "stream",
     "text": [
      "Not accept to devided by zero\n"
     ]
    }
   ],
   "source": [
    "try:\n",
    "    x = 10\n",
    "    y = int(input(\"enter your value\"))\n",
    "    x/y\n",
    "except:\n",
    "    print(\"Not accept to devided by zero\")"
   ]
  },
  {
   "cell_type": "code",
   "execution_count": 76,
   "id": "83c3e451",
   "metadata": {},
   "outputs": [
    {
     "ename": "ZeroDivisionError",
     "evalue": "division by zero",
     "output_type": "error",
     "traceback": [
      "\u001b[31m---------------------------------------------------------------------------\u001b[39m",
      "\u001b[31mZeroDivisionError\u001b[39m                         Traceback (most recent call last)",
      "\u001b[36mCell\u001b[39m\u001b[36m \u001b[39m\u001b[32mIn[76]\u001b[39m\u001b[32m, line 4\u001b[39m\n\u001b[32m      2\u001b[39m y = \u001b[32m5\u001b[39m\n\u001b[32m      3\u001b[39m \u001b[38;5;28;01mtry\u001b[39;00m:\n\u001b[32m----> \u001b[39m\u001b[32m4\u001b[39m     \u001b[32;43m5\u001b[39;49m\u001b[43m/\u001b[49m\u001b[32;43m0\u001b[39;49m\n\u001b[32m      5\u001b[39m \u001b[38;5;28;01mexcept\u001b[39;00m \u001b[38;5;167;01mNameError\u001b[39;00m :\n\u001b[32m      6\u001b[39m     \u001b[38;5;28mprint\u001b[39m(\u001b[33m\"\u001b[39m\u001b[33maaaaaaaaaaaa\u001b[39m\u001b[33m\"\u001b[39m)\n",
      "\u001b[31mZeroDivisionError\u001b[39m: division by zero"
     ]
    }
   ],
   "source": [
    "a = 10\n",
    "y = 5\n",
    "try:\n",
    "    5/0\n",
    "except NameError :\n",
    "    print(\"aaaaaaaaaaaa\")"
   ]
  },
  {
   "cell_type": "code",
   "execution_count": 220,
   "id": "ce5870b6",
   "metadata": {},
   "outputs": [
    {
     "data": {
      "text/plain": [
       "0.007674742523740542"
      ]
     },
     "execution_count": 220,
     "metadata": {},
     "output_type": "execute_result"
    }
   ],
   "source": [
    "import random\n",
    "random.random\n",
    "n = random.random()\n",
    "def calc_degree(n):\n",
    "    return n*n\n",
    "calc_degree(n)"
   ]
  },
  {
   "cell_type": "code",
   "execution_count": 230,
   "id": "ea0bc506",
   "metadata": {},
   "outputs": [
    {
     "data": {
      "text/plain": [
       "'ali'"
      ]
     },
     "execution_count": 230,
     "metadata": {},
     "output_type": "execute_result"
    }
   ],
   "source": [
    "list_1 = [\"ahmed\",\"ali\",\"shahinda\",\"omar\"]\n",
    "random.choice(list_1)"
   ]
  }
 ],
 "metadata": {
  "kernelspec": {
   "display_name": ".venv",
   "language": "python",
   "name": "python3"
  },
  "language_info": {
   "codemirror_mode": {
    "name": "ipython",
    "version": 3
   },
   "file_extension": ".py",
   "mimetype": "text/x-python",
   "name": "python",
   "nbconvert_exporter": "python",
   "pygments_lexer": "ipython3",
   "version": "3.12.10"
  }
 },
 "nbformat": 4,
 "nbformat_minor": 5
}

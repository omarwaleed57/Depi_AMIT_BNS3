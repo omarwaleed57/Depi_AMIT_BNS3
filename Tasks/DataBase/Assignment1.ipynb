{
 "cells": [
  {
   "cell_type": "markdown",
   "id": "433ece34",
   "metadata": {},
   "source": [
    "## Assignment: Student Management Database in PostgreSQL\n",
    "Objective\n",
    "In this exercise, you will connect to a PostgreSQL database you created, build the tables for a simple student management system, insert sample data, and perform different queries — including JOIN operations.\n",
    "\n",
    "Part 1: Database Connection\n",
    "Create a new database in PostgreSQL named student_management.\n",
    "\n",
    "Write Python code (using psycopg2) to connect to your student_management database.\n",
    "\n",
    "Example:"
   ]
  },
  {
   "cell_type": "code",
   "execution_count": 1,
   "id": "9d51386e",
   "metadata": {},
   "outputs": [
    {
     "name": "stdout",
     "output_type": "stream",
     "text": [
      "Database connected successfully.\n"
     ]
    }
   ],
   "source": [
    "import psycopg2\n",
    "\n",
    "# Connect to PostgreSQL\n",
    "conn = psycopg2.connect(\n",
    "    dbname=\"student_management\",\n",
    "    user=\"postgres\",\n",
    "    password=\"1475369\",\n",
    "    host=\"localhost\",\n",
    "    # port=\"5432\"\n",
    ")\n",
    "\n",
    "cur = conn.cursor()\n",
    "print(\"Database connected successfully.\")\n"
   ]
  },
  {
   "cell_type": "markdown",
   "id": "750c6f37",
   "metadata": {},
   "source": [
    "## Part 2: Create Tables\n",
    "\n",
    "Create the following tables using SQL:\n",
    "\n",
    "### `students`\n",
    "- `student_id` (SERIAL PRIMARY KEY)  \n",
    "- `name` (VARCHAR)  \n",
    "- `email` (VARCHAR)  \n",
    "- `phone` (VARCHAR)  \n",
    "\n",
    "### `courses`\n",
    "- `course_id` (SERIAL PRIMARY KEY)  \n",
    "- `course_name` (VARCHAR)  \n",
    "- `credits` (INT)  \n",
    "\n",
    "### `enrollments`\n",
    "- `enrollment_id` (SERIAL PRIMARY KEY)  \n",
    "- `student_id` (INT REFERENCES students(student_id))  \n",
    "- `course_id` (INT REFERENCES courses(course_id))  \n",
    "- `grade` (VARCHAR)  \n"
   ]
  },
  {
   "cell_type": "code",
   "execution_count": 10,
   "id": "40f07cf7",
   "metadata": {},
   "outputs": [],
   "source": [
    "tables = [\n",
    "    \"\"\"\n",
    "    CREATE TABLE IF NOT EXISTS students(\n",
    "        student_id SERIAL PRIMARY KEY,\n",
    "        name VARCHAR(100),\n",
    "        email VARCHAR(100),\n",
    "        phone VARCHAR(25)\n",
    "    )\n",
    "    \"\"\",\n",
    "    \"\"\"\n",
    "    CREATE TABLE IF NOT EXISTS courses(\n",
    "        course_id SERIAL PRIMARY KEY,\n",
    "        course_name VARCHAR(100),\n",
    "        credits INT\n",
    "    )\n",
    "    \"\"\",\n",
    "    \"\"\"\n",
    "    CREATE TABLE IF NOT EXISTS enrollments(\n",
    "        enrollment_id SERIAL PRIMARY KEY,\n",
    "        student_id INT REFERENCES students(student_id),\n",
    "        course_id INT REFERENCES courses(course_id),\n",
    "        grade VARCHAR(50)\n",
    "    )\n",
    "    \"\"\"\n",
    "]\n",
    "\n",
    "for query in tables:\n",
    "    cur.execute(query)\n",
    "    conn.commit()"
   ]
  },
  {
   "cell_type": "markdown",
   "id": "89d3f535",
   "metadata": {},
   "source": [
    "## Part 3: Insert Sample Data\n",
    "Insert at least 3 records into each table.\n",
    "\n",
    "Example:"
   ]
  },
  {
   "cell_type": "code",
   "execution_count": 12,
   "id": "adec644a",
   "metadata": {},
   "outputs": [],
   "source": [
    "filling_tables = [\n",
    "    \"\"\"INSERT INTO students (name, email, phone) VALUES\n",
    "    ('Alice Johnson', 'alice@example.com', '1234567890'),\n",
    "    ('Bob Smith', 'bob@example.com', '9876543210'),\n",
    "    ('Charlie Brown', 'charlie@example.com', '5555555555');\"\"\",\n",
    "\n",
    "    \"\"\"INSERT INTO courses (course_name, credits) VALUES\n",
    "    ('Mathematics', 3),\n",
    "    ('Computer Science', 4),\n",
    "    ('History', 2);\"\"\",\n",
    "\n",
    "    \"\"\"INSERT INTO enrollments (student_id, course_id, grade) VALUES\n",
    "    (1, 1, 'A'),\n",
    "    (1, 2, 'B'),\n",
    "    (2, 3, 'A'),\n",
    "    (3, 2, 'C');\"\"\"\n",
    "]\n",
    "for query in filling_tables:\n",
    "    cur.execute(query)\n",
    "    conn.commit()"
   ]
  },
  {
   "cell_type": "markdown",
   "id": "15245cce",
   "metadata": {},
   "source": [
    "## Part 4: Query Tasks\n",
    "\n",
    "Write SQL queries to answer the following questions:\n",
    "\n",
    "1. **List all students.**\n",
    "   ```sql\n",
    "   SELECT * FROM students;\n"
   ]
  },
  {
   "cell_type": "markdown",
   "id": "523709d8",
   "metadata": {},
   "source": [
    "2. Find students who have a grade of 'A'.\n",
    "Hint: Use a WHERE clause in the enrollments table to filter by grade.\n",
    "\n",
    "SELECT * \n",
    "FROM enrollments\n",
    "WHERE grade = 'A';\n"
   ]
  },
  {
   "cell_type": "code",
   "execution_count": 16,
   "id": "af256c39",
   "metadata": {},
   "outputs": [
    {
     "name": "stdout",
     "output_type": "stream",
     "text": [
      "(1, 'Alice Johnson', 'alice@example.com', '1234567890')\n",
      "(2, 'Bob Smith', 'bob@example.com', '9876543210')\n",
      "(3, 'Charlie Brown', 'charlie@example.com', '5555555555')\n"
     ]
    }
   ],
   "source": [
    "query = \"SELECT * FROM students;\"\n",
    "cur.execute(query)\n",
    "result = cur.fetchall()\n",
    "for i in result:\n",
    "    print(i)"
   ]
  },
  {
   "cell_type": "markdown",
   "id": "f1764d0a",
   "metadata": {},
   "source": [
    "3. Show all courses with their credit hours.\n",
    "Hint: Select course name and credit hours from the courses table.\n",
    "\n",
    "\n",
    "SELECT course_name, credit_hours \n",
    "FROM courses;"
   ]
  },
  {
   "cell_type": "code",
   "execution_count": 23,
   "id": "47b586c8",
   "metadata": {},
   "outputs": [
    {
     "name": "stdout",
     "output_type": "stream",
     "text": [
      "('Mathematics', 3)\n",
      "('Computer Science', 4)\n",
      "('History', 2)\n"
     ]
    }
   ],
   "source": [
    "query = r\"SELECT course_name, credits FROM courses;\"\n",
    "cur.execute(query)\n",
    "result = cur.fetchall()\n",
    "for i in result:\n",
    "    print(i)"
   ]
  },
  {
   "cell_type": "markdown",
   "id": "38906fa5",
   "metadata": {},
   "source": [
    "4. Find the courses a specific student (e.g., 'Alice Johnson') is enrolled in.\n",
    "Hint: Use JOIN between students, enrollments, and courses.\n",
    "\n",
    "\n",
    "SELECT s.name, c.course_name\n",
    "FROM students s\n",
    "JOIN enrollments e ON s.student_id = e.student_id\n",
    "JOIN courses c ON e.course_id = c.course_id\n",
    "WHERE s.name = 'Alice Johnson';"
   ]
  },
  {
   "cell_type": "code",
   "execution_count": 25,
   "id": "202d65a9",
   "metadata": {},
   "outputs": [
    {
     "name": "stdout",
     "output_type": "stream",
     "text": [
      "('Alice Johnson', 'Mathematics')\n",
      "('Alice Johnson', 'Computer Science')\n"
     ]
    }
   ],
   "source": [
    "query = \"\"\"\n",
    "    SELECT s.name, c.course_name\n",
    "    FROM students s\n",
    "    JOIN enrollments e ON s.student_id = e.student_id\n",
    "    JOIN courses c ON e.course_id = c.course_id\n",
    "    WHERE s.name = 'Alice Johnson';\n",
    "\"\"\"\n",
    "cur.execute(query)\n",
    "result = cur.fetchall()\n",
    "for i in result:\n",
    "    print(i)"
   ]
  },
  {
   "cell_type": "markdown",
   "id": "bf0fee50",
   "metadata": {},
   "source": [
    "5. List each student along with the number of courses they are enrolled in.\n",
    "Hint: Use JOIN, GROUP BY, and COUNT().\n",
    "\n",
    "\n",
    "SELECT s.name, COUNT(e.course_id) AS total_courses\n",
    "FROM students s\n",
    "JOIN enrollments e ON s.student_id = e.student_id\n",
    "GROUP BY s.name;"
   ]
  },
  {
   "cell_type": "code",
   "execution_count": 26,
   "id": "b8c1ef1d",
   "metadata": {},
   "outputs": [
    {
     "name": "stdout",
     "output_type": "stream",
     "text": [
      "('Alice Johnson', 2)\n",
      "('Bob Smith', 1)\n",
      "('Charlie Brown', 1)\n"
     ]
    }
   ],
   "source": [
    "query = \"\"\"\n",
    "    SELECT s.name, COUNT(e.course_id) AS total_courses\n",
    "    FROM students s\n",
    "    JOIN enrollments e ON s.student_id = e.student_id\n",
    "    GROUP BY s.name;\n",
    "\"\"\"\n",
    "cur.execute(query)\n",
    "result = cur.fetchall()\n",
    "for i in result:\n",
    "    print(i)"
   ]
  },
  {
   "cell_type": "markdown",
   "id": "5cb8d774",
   "metadata": {},
   "source": [
    "6. Find students who are not enrolled in any course.\n",
    "Hint: Use LEFT JOIN and check for NULL in the enrollments table.\n",
    "\n",
    "\n",
    "SELECT s.name\n",
    "FROM students s\n",
    "LEFT JOIN enrollments e ON s.student_id = e.student_id\n",
    "WHERE e.course_id IS NULL;\n"
   ]
  },
  {
   "cell_type": "code",
   "execution_count": 27,
   "id": "1391d701",
   "metadata": {},
   "outputs": [],
   "source": [
    "query = \"\"\"\n",
    "    SELECT s.name\n",
    "    FROM students s\n",
    "    LEFT JOIN enrollments e ON s.student_id = e.student_id\n",
    "    WHERE e.course_id IS NULL;\n",
    "\"\"\"\n",
    "cur.execute(query)\n",
    "result = cur.fetchall()\n",
    "for i in result:\n",
    "    print(i)"
   ]
  },
  {
   "cell_type": "markdown",
   "id": "4ce81f53",
   "metadata": {},
   "source": [
    "7. Show all enrollments sorted by grade (highest to lowest).\n",
    "Hint: Use ORDER BY with DESC.\n",
    "\n",
    "\n",
    "SELECT * \n",
    "FROM enrollments\n",
    "ORDER BY grade DESC;\n",
    "\n"
   ]
  },
  {
   "cell_type": "code",
   "execution_count": 28,
   "id": "777f63de",
   "metadata": {},
   "outputs": [
    {
     "name": "stdout",
     "output_type": "stream",
     "text": [
      "(4, 3, 2, 'C')\n",
      "(2, 1, 2, 'B')\n",
      "(1, 1, 1, 'A')\n",
      "(3, 2, 3, 'A')\n"
     ]
    }
   ],
   "source": [
    "query = \"\"\"\n",
    "    SELECT * \n",
    "    FROM enrollments\n",
    "    ORDER BY grade DESC;\n",
    "\"\"\"\n",
    "cur.execute(query)\n",
    "result = cur.fetchall()\n",
    "for i in result:\n",
    "    print(i)"
   ]
  },
  {
   "cell_type": "markdown",
   "id": "c6b9759f",
   "metadata": {},
   "source": [
    "Part 5: Bonus\n",
    "Write a query to find the average grade per course (Convert grades into numeric values if you want to calculate an average).\n",
    "\n",
    "Add a instructor table and modify your queries to include instructor names.\n",
    "\n"
   ]
  },
  {
   "cell_type": "markdown",
   "id": "1ec8f455",
   "metadata": {},
   "source": []
  },
  {
   "cell_type": "code",
   "execution_count": 29,
   "id": "6ab4db5e",
   "metadata": {},
   "outputs": [
    {
     "name": "stdout",
     "output_type": "stream",
     "text": [
      "('Computer Science', Decimal('2.5000000000000000'))\n",
      "('Mathematics', Decimal('4.0000000000000000'))\n",
      "('History', Decimal('4.0000000000000000'))\n"
     ]
    }
   ],
   "source": [
    "query = \"\"\"\n",
    "    SELECT c.course_name, \n",
    "    avg(\n",
    "        CASE e.grade\n",
    "        WHEN 'A' THEN 4.00\n",
    "        WHEN 'B' THEN 3.00\n",
    "        WHEN 'C' THEN 2.00\n",
    "        WHEN 'D' THEN 1.00\n",
    "        ELSE NULL\n",
    "    END) AS average_grade\n",
    "    FROM courses c JOIN enrollments e ON c.course_id = e.course_id\n",
    "    GROUP BY c.course_name\n",
    "\"\"\"\n",
    "cur.execute(query)\n",
    "result = cur.fetchall()\n",
    "for i in result:\n",
    "    print(i)"
   ]
  },
  {
   "cell_type": "code",
   "execution_count": null,
   "id": "461bae49",
   "metadata": {},
   "outputs": [],
   "source": []
  }
 ],
 "metadata": {
  "kernelspec": {
   "display_name": ".venv",
   "language": "python",
   "name": "python3"
  },
  "language_info": {
   "codemirror_mode": {
    "name": "ipython",
    "version": 3
   },
   "file_extension": ".py",
   "mimetype": "text/x-python",
   "name": "python",
   "nbconvert_exporter": "python",
   "pygments_lexer": "ipython3",
   "version": "3.13.5"
  }
 },
 "nbformat": 4,
 "nbformat_minor": 5
}

{
 "cells": [
  {
   "cell_type": "code",
   "execution_count": 8,
   "id": "fe776345",
   "metadata": {},
   "outputs": [
    {
     "name": "stdout",
     "output_type": "stream",
     "text": [
      "Welcome PGTQ\n"
     ]
    }
   ],
   "source": [
    "Fun1 = '###!!@mocleW EPGTQ!!!6789'\n",
    "msg = Fun1[6:18]\n",
    "msg = msg.split()\n",
    "str1 = msg[0]\n",
    "str1 = str1[-1: :-1] + 'e'\n",
    "str2 = msg[1]\n",
    "str2 = str2[1: ]\n",
    "msg = str1 + ' ' + str2\n",
    "print(msg)"
   ]
  }
 ],
 "metadata": {
  "kernelspec": {
   "display_name": ".venv",
   "language": "python",
   "name": "python3"
  },
  "language_info": {
   "codemirror_mode": {
    "name": "ipython",
    "version": 3
   },
   "file_extension": ".py",
   "mimetype": "text/x-python",
   "name": "python",
   "nbconvert_exporter": "python",
   "pygments_lexer": "ipython3",
   "version": "3.12.10"
  }
 },
 "nbformat": 4,
 "nbformat_minor": 5
}

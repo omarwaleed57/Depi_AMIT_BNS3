{
 "cells": [
  {
   "cell_type": "code",
   "execution_count": null,
   "id": "744e647c",
   "metadata": {},
   "outputs": [
    {
     "name": "stdout",
     "output_type": "stream",
     "text": [
      "Invalid Path!\n",
      "Invalid Path!\n",
      "Invalid Path!\n"
     ]
    }
   ],
   "source": [
    "import os\n",
    "import random\n",
    "\n",
    "def make_and_del():\n",
    "    \"\"\"\n",
    "    This function:\n",
    "    - Prompts the user to input a valid folder path.\n",
    "    - Creates 20 text files in the specified folder.\n",
    "    - Deletes half of the files at random.\n",
    "    - Prints the file names before and after deletion.\n",
    "    \"\"\"\n",
    "\n",
    "    path = input('Enter the path of the folder: ')\n",
    "\n",
    "    if not os.path.exists(path):\n",
    "        print('Invalid Path!')\n",
    "        make_and_del()  \n",
    "    else:\n",
    "        \n",
    "        for i in range(20):\n",
    "            file_path = os.path.join(path, f'text_{i}.txt')\n",
    "            with open(file_path, 'w') as f:\n",
    "                f.write('')  \n",
    "\n",
    "        \n",
    "        print('All files:')\n",
    "        print(os.listdir(path))\n",
    "\n",
    "        \n",
    "        file_list = os.listdir(path)\n",
    "        file_count = len(file_list)\n",
    "        print(f'Number of files in the folder is: {file_count}')\n",
    "\n",
    "        for _ in range(file_count // 2):\n",
    "            files = os.listdir(path)  \n",
    "            random_file = random.choice(files)\n",
    "            file_path = os.path.join(path, random_file)\n",
    "            os.remove(file_path)\n",
    "            print(f'Random file deleted is: {random_file}')\n",
    "\n",
    "        \n",
    "        print('Files after deleting half:')\n",
    "        print(os.listdir(path))\n",
    "\n",
    "\n",
    "make_and_del()\n"
   ]
  },
  {
   "cell_type": "code",
   "execution_count": null,
   "id": "c88bc29f",
   "metadata": {},
   "outputs": [],
   "source": []
  }
 ],
 "metadata": {
  "kernelspec": {
   "display_name": ".venv",
   "language": "python",
   "name": "python3"
  },
  "language_info": {
   "codemirror_mode": {
    "name": "ipython",
    "version": 3
   },
   "file_extension": ".py",
   "mimetype": "text/x-python",
   "name": "python",
   "nbconvert_exporter": "python",
   "pygments_lexer": "ipython3",
   "version": "3.12.10"
  }
 },
 "nbformat": 4,
 "nbformat_minor": 5
}

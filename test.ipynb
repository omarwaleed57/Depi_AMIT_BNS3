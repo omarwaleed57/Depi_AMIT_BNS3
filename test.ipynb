{
 "cells": [
  {
   "cell_type": "code",
   "execution_count": 4,
   "id": "45780c40",
   "metadata": {},
   "outputs": [],
   "source": [
    "list_one= [1,2,3,4,\"Depi\",\"Learning\",True,[1,2,3,4,\"true\",[\"ML\",\"DL\",\"DS]\"]]]"
   ]
  },
  {
   "cell_type": "code",
   "execution_count": 5,
   "id": "43521b3a",
   "metadata": {},
   "outputs": [
    {
     "data": {
      "text/plain": [
       "list"
      ]
     },
     "execution_count": 5,
     "metadata": {},
     "output_type": "execute_result"
    }
   ],
   "source": [
    "type(list_one)"
   ]
  },
  {
   "cell_type": "code",
   "execution_count": 6,
   "id": "210db71b",
   "metadata": {},
   "outputs": [
    {
     "data": {
      "text/plain": [
       "'Depi'"
      ]
     },
     "execution_count": 6,
     "metadata": {},
     "output_type": "execute_result"
    }
   ],
   "source": [
    "list_one[4]"
   ]
  },
  {
   "cell_type": "code",
   "execution_count": 9,
   "id": "373f12b0",
   "metadata": {},
   "outputs": [
    {
     "data": {
      "text/plain": [
       "'DL'"
      ]
     },
     "execution_count": 9,
     "metadata": {},
     "output_type": "execute_result"
    }
   ],
   "source": [
    "list_one[7][5][1]"
   ]
  },
  {
   "cell_type": "code",
   "execution_count": 10,
   "id": "7420139e",
   "metadata": {},
   "outputs": [],
   "source": [
    "list_one[4]= \"AMIT\""
   ]
  },
  {
   "cell_type": "code",
   "execution_count": 11,
   "id": "6bfa7873",
   "metadata": {},
   "outputs": [
    {
     "data": {
      "text/plain": [
       "[1,\n",
       " 2,\n",
       " 3,\n",
       " 4,\n",
       " 'AMIT',\n",
       " 'Learning',\n",
       " True,\n",
       " [1, 2, 3, 4, 'true', ['ML', 'DL', 'DS]']]]"
      ]
     },
     "execution_count": 11,
     "metadata": {},
     "output_type": "execute_result"
    }
   ],
   "source": [
    "list_one"
   ]
  },
  {
   "cell_type": "code",
   "execution_count": 13,
   "id": "36a17d16",
   "metadata": {},
   "outputs": [
    {
     "name": "stdout",
     "output_type": "stream",
     "text": [
      "<class 'str'>\n",
      "<class 'list'>\n"
     ]
    }
   ],
   "source": [
    "x = \"omar\"\n",
    "y = list(x)\n",
    "print(type(x))\n",
    "print(type(y))"
   ]
  },
  {
   "cell_type": "code",
   "execution_count": 16,
   "id": "e8283c7d",
   "metadata": {},
   "outputs": [
    {
     "name": "stdout",
     "output_type": "stream",
     "text": [
      "['DEPI', 'DATA', 'Science', 'machine learning']\n"
     ]
    }
   ],
   "source": [
    "list_11 = [\"DEPI\",\"DATA\",\"Science\"]\n",
    "list_11.append(\"machine learning\")\n",
    "print(list_11)"
   ]
  },
  {
   "cell_type": "code",
   "execution_count": 18,
   "id": "fba020ec",
   "metadata": {},
   "outputs": [
    {
     "data": {
      "text/plain": [
       "['Machine learning', 'DEPI', 'DATA', 'Science']"
      ]
     },
     "execution_count": 18,
     "metadata": {},
     "output_type": "execute_result"
    }
   ],
   "source": [
    "list_11 = [\"DEPI\",\"DATA\",\"Science\"]\n",
    "list_11.insert(0,\"Machine learning\")\n",
    "list_11"
   ]
  },
  {
   "cell_type": "code",
   "execution_count": 19,
   "id": "050864ea",
   "metadata": {},
   "outputs": [
    {
     "data": {
      "text/plain": [
       "[1, 2, 3, 4, 5, 6]"
      ]
     },
     "execution_count": 19,
     "metadata": {},
     "output_type": "execute_result"
    }
   ],
   "source": [
    "x1 = [1,2,3]\n",
    "x2 = [4,5,6]\n",
    "\n",
    "x1.extend(x2)\n",
    "x1"
   ]
  },
  {
   "cell_type": "code",
   "execution_count": 21,
   "id": "3fd2b421",
   "metadata": {},
   "outputs": [
    {
     "data": {
      "text/plain": [
       "['DATA', 'Science']"
      ]
     },
     "execution_count": 21,
     "metadata": {},
     "output_type": "execute_result"
    }
   ],
   "source": [
    "list_11 = [\"DEPI\",\"DATA\",\"Science\"]\n",
    "list_11.remove(\"DEPI\")\n",
    "list_11"
   ]
  },
  {
   "cell_type": "code",
   "execution_count": 25,
   "id": "44587b52",
   "metadata": {},
   "outputs": [
    {
     "data": {
      "text/plain": [
       "['DATA', 'Science']"
      ]
     },
     "execution_count": 25,
     "metadata": {},
     "output_type": "execute_result"
    }
   ],
   "source": [
    "list_11 = [\"DEPI\",\"DATA\",\"Science\"]\n",
    "list_11.pop(0)\n",
    "list_11"
   ]
  },
  {
   "cell_type": "code",
   "execution_count": 29,
   "id": "e0beb3c2",
   "metadata": {},
   "outputs": [
    {
     "data": {
      "text/plain": [
       "[]"
      ]
     },
     "execution_count": 29,
     "metadata": {},
     "output_type": "execute_result"
    }
   ],
   "source": [
    "my_list = [3,1,4,1,5,9,2]\n",
    "my_list.clear()\n",
    "my_list"
   ]
  },
  {
   "cell_type": "code",
   "execution_count": 30,
   "id": "9b214e14",
   "metadata": {},
   "outputs": [],
   "source": [
    "del my_list"
   ]
  },
  {
   "cell_type": "code",
   "execution_count": 31,
   "id": "857f63d3",
   "metadata": {},
   "outputs": [
    {
     "ename": "NameError",
     "evalue": "name 'my_list' is not defined",
     "output_type": "error",
     "traceback": [
      "\u001b[31m---------------------------------------------------------------------------\u001b[39m",
      "\u001b[31mNameError\u001b[39m                                 Traceback (most recent call last)",
      "\u001b[36mCell\u001b[39m\u001b[36m \u001b[39m\u001b[32mIn[31]\u001b[39m\u001b[32m, line 1\u001b[39m\n\u001b[32m----> \u001b[39m\u001b[32m1\u001b[39m \u001b[43mmy_list\u001b[49m\n",
      "\u001b[31mNameError\u001b[39m: name 'my_list' is not defined"
     ]
    }
   ],
   "source": [
    "my_list"
   ]
  },
  {
   "cell_type": "code",
   "execution_count": 35,
   "id": "8350ad2e",
   "metadata": {},
   "outputs": [
    {
     "data": {
      "text/plain": [
       "tuple"
      ]
     },
     "execution_count": 35,
     "metadata": {},
     "output_type": "execute_result"
    }
   ],
   "source": [
    "tuple_one= (1,2,3,4,\"Depi\",\"Learning\",True,(1,2,3,4,\"true\",(\"ML\",\"DL\",\"DS)\")))\n",
    "x = list(tuple_one)\n",
    "x[4] = \"AMIT\"\n",
    "y = tuple(x)\n",
    "tuple_one[4]\n",
    "type(y)"
   ]
  },
  {
   "cell_type": "code",
   "execution_count": 38,
   "id": "3bb4d2ef",
   "metadata": {},
   "outputs": [
    {
     "data": {
      "text/plain": [
       "(1,\n",
       " 2,\n",
       " 3,\n",
       " 4,\n",
       " 'AMIT',\n",
       " 'Learning',\n",
       " True,\n",
       " (1, 2, 3, 4, 'true', ('ML', 'DL', 'DS)')))"
      ]
     },
     "execution_count": 38,
     "metadata": {},
     "output_type": "execute_result"
    }
   ],
   "source": [
    "y"
   ]
  },
  {
   "cell_type": "code",
   "execution_count": null,
   "id": "0edc0173",
   "metadata": {},
   "outputs": [],
   "source": []
  }
 ],
 "metadata": {
  "kernelspec": {
   "display_name": ".venv",
   "language": "python",
   "name": "python3"
  },
  "language_info": {
   "codemirror_mode": {
    "name": "ipython",
    "version": 3
   },
   "file_extension": ".py",
   "mimetype": "text/x-python",
   "name": "python",
   "nbconvert_exporter": "python",
   "pygments_lexer": "ipython3",
   "version": "3.12.10"
  }
 },
 "nbformat": 4,
 "nbformat_minor": 5
}

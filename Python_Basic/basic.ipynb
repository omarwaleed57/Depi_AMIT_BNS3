{
 "cells": [
  {
   "cell_type": "code",
   "execution_count": null,
   "id": "964b1606",
   "metadata": {},
   "outputs": [],
   "source": [
    "x = \"Omar\"\n",
    "print(x)"
   ]
  },
  {
   "cell_type": "code",
   "execution_count": 15,
   "id": "930a40ca",
   "metadata": {},
   "outputs": [
    {
     "data": {
      "text/plain": [
       "str"
      ]
     },
     "execution_count": 15,
     "metadata": {},
     "output_type": "execute_result"
    }
   ],
   "source": [
    "type(x)"
   ]
  },
  {
   "cell_type": "code",
   "execution_count": 7,
   "id": "cd4651c8",
   "metadata": {},
   "outputs": [
    {
     "data": {
      "text/plain": [
       "1297189648112"
      ]
     },
     "execution_count": 7,
     "metadata": {},
     "output_type": "execute_result"
    }
   ],
   "source": [
    "id(x)"
   ]
  },
  {
   "cell_type": "code",
   "execution_count": 8,
   "id": "47b9dd1a",
   "metadata": {},
   "outputs": [
    {
     "data": {
      "text/plain": [
       "'0x12e068736f0'"
      ]
     },
     "execution_count": 8,
     "metadata": {},
     "output_type": "execute_result"
    }
   ],
   "source": [
    "hex(id(x))"
   ]
  },
  {
   "cell_type": "code",
   "execution_count": 9,
   "id": "1f703df6",
   "metadata": {},
   "outputs": [],
   "source": [
    "#this variable "
   ]
  },
  {
   "cell_type": "code",
   "execution_count": 17,
   "id": "032a6177",
   "metadata": {},
   "outputs": [
    {
     "name": "stdout",
     "output_type": "stream",
     "text": [
      "My Name Is Omar\n"
     ]
    }
   ],
   "source": [
    "print(\"My Name Is\",x)"
   ]
  },
  {
   "cell_type": "code",
   "execution_count": 18,
   "id": "5d897f33",
   "metadata": {},
   "outputs": [
    {
     "name": "stdout",
     "output_type": "stream",
     "text": [
      "My Name Is Omar, My Age Is 50\n"
     ]
    }
   ],
   "source": [
    "print(\"My Name Is {0}, My Age Is {1}\".format(\"Omar\",\"50\"))"
   ]
  },
  {
   "cell_type": "code",
   "execution_count": 20,
   "id": "b8cb89bd",
   "metadata": {},
   "outputs": [
    {
     "name": "stdout",
     "output_type": "stream",
     "text": [
      "My Name Is Omar, My Age Is 50\n"
     ]
    }
   ],
   "source": [
    "print(\"My Name Is {x}, My Age Is {y}\".format(x = \"Omar\",y = \"50\" ))"
   ]
  },
  {
   "cell_type": "code",
   "execution_count": null,
   "id": "a0713e87",
   "metadata": {},
   "outputs": [],
   "source": []
  }
 ],
 "metadata": {
  "kernelspec": {
   "display_name": ".venv",
   "language": "python",
   "name": "python3"
  },
  "language_info": {
   "codemirror_mode": {
    "name": "ipython",
    "version": 3
   },
   "file_extension": ".py",
   "mimetype": "text/x-python",
   "name": "python",
   "nbconvert_exporter": "python",
   "pygments_lexer": "ipython3",
   "version": "3.12.10"
  }
 },
 "nbformat": 4,
 "nbformat_minor": 5
}

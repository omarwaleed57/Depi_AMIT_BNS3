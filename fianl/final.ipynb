{
 "cells": [
  {
   "cell_type": "code",
   "execution_count": 12,
   "id": "b8ea11f1",
   "metadata": {},
   "outputs": [
    {
     "name": "stdout",
     "output_type": "stream",
     "text": [
      "Error: Deposit amount must be positive\n",
      "Error: Withdrawal amount must be positive\n",
      "Current balance: 100\n"
     ]
    }
   ],
   "source": [
    "class BankAccount:\n",
    "    def __init__(self, balance):\n",
    "        \"\"\"\n",
    "        Initialize the bank account with a starting balance\n",
    "        \"\"\"\n",
    "        self.balance = balance\n",
    "\n",
    "    def deposit(self, amount):\n",
    "        \"\"\"\n",
    "        Add money to the account if the amount is positive\n",
    "        \"\"\"\n",
    "        if amount > 0:\n",
    "            self.balance += amount\n",
    "            print(f'Deposited {amount}. New balance: {self.balance}')\n",
    "        else:\n",
    "            print(\"Error: Deposit amount must be positive\")\n",
    "\n",
    "    def withdraw(self, amount):\n",
    "        \"\"\"\n",
    "        Withdraw money if the amount is positive and enough balance is available\n",
    "        \"\"\"\n",
    "        if amount > 0:\n",
    "            if amount > self.balance:\n",
    "                print('Insufficient funds')\n",
    "            else:\n",
    "                self.balance -= amount\n",
    "                print(f'Withdrew {amount}. New balance: {self.balance}')\n",
    "        else:\n",
    "            print(\"Error: Withdrawal amount must be positive\")\n",
    "\n",
    "    def check_balance(self):\n",
    "        \"\"\"\n",
    "        Display the current balance of the account\n",
    "        \"\"\"\n",
    "        print(f'Current balance: {self.balance}')\n",
    "\n",
    "\n",
    "# Usage Example\n",
    "account = BankAccount(100)\n",
    "account.deposit(-50)     # Will print error (negative deposit not allowed)\n",
    "account.withdraw(-30)    # Will print error (negative withdrawal not allowed)\n",
    "account.check_balance()  # Shows the current balance\n"
   ]
  },
  {
   "cell_type": "code",
   "execution_count": null,
   "id": "de318a43",
   "metadata": {},
   "outputs": [],
   "source": []
  }
 ],
 "metadata": {
  "kernelspec": {
   "display_name": ".venv",
   "language": "python",
   "name": "python3"
  },
  "language_info": {
   "codemirror_mode": {
    "name": "ipython",
    "version": 3
   },
   "file_extension": ".py",
   "mimetype": "text/x-python",
   "name": "python",
   "nbconvert_exporter": "python",
   "pygments_lexer": "ipython3",
   "version": "3.12.10"
  }
 },
 "nbformat": 4,
 "nbformat_minor": 5
}

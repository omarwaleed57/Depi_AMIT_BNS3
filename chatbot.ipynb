{
 "cells": [
  {
   "cell_type": "code",
   "execution_count": 4,
   "id": "d72707ef",
   "metadata": {},
   "outputs": [],
   "source": [
    "import random\n",
    "responses = {\n",
    "    \"hello\": [\"Hello!\", \"Hi there!\", \"Greetings!\"],\n",
    "    \"how are you\": [\"I'm doing well, thank you!\", \"I'm fine, how about you?\"],\n",
    "    \"goodbye\": [\"Goodbye!\", \"See you later!\", \"Farewell!\"],\n",
    "    \"default\": [\"I'm sorry, I didn't understand.\", \"Could you please rephrase that?\"]\n",
    "}\n",
    "\n",
    "def get_respnse(user_input):\n",
    "    \n",
    "    for key in responses:\n",
    "        if key in user_input:\n",
    "    \n",
    "            return random.choice(responses[key])\n",
    "\n",
    "        \n",
    "    return random.choice(responses[\"default\"])\n",
    "\n",
    "\n",
    "def cahtbot():\n",
    "    print(\"chatbot: Hi How Can i assist you today?\")\n",
    "    \n",
    "    while True:\n",
    "        \n",
    "        user_input = input(\"user: \").lower()\n",
    "        response = get_respnse(user_input)\n",
    "        print(\"chatbot: \",response)\n",
    "        \n",
    "        if user_input == \"goodbye\":\n",
    "            break"
   ]
  },
  {
   "cell_type": "code",
   "execution_count": 5,
   "id": "1487fb06",
   "metadata": {},
   "outputs": [
    {
     "name": "stdout",
     "output_type": "stream",
     "text": [
      "chatbot: Hi How Can i assist you today?\n",
      "chatbot:  Greetings!\n",
      "chatbot:  I'm fine, how about you?\n",
      "chatbot:  Goodbye!\n"
     ]
    }
   ],
   "source": [
    "cahtbot()"
   ]
  },
  {
   "cell_type": "code",
   "execution_count": null,
   "id": "8390b50a",
   "metadata": {},
   "outputs": [],
   "source": []
  },
  {
   "cell_type": "code",
   "execution_count": null,
   "id": "3979cb8a",
   "metadata": {},
   "outputs": [],
   "source": [
    "\n",
    "\n",
    "\n",
    "\n",
    "\n"
   ]
  },
  {
   "cell_type": "code",
   "execution_count": null,
   "id": "d5c68b5f",
   "metadata": {},
   "outputs": [],
   "source": [
    "\n",
    "\n",
    "\n",
    "\n",
    "\n",
    "\n",
    "\n"
   ]
  },
  {
   "cell_type": "code",
   "execution_count": null,
   "id": "34e9a2fe",
   "metadata": {},
   "outputs": [],
   "source": []
  }
 ],
 "metadata": {
  "kernelspec": {
   "display_name": ".venv",
   "language": "python",
   "name": "python3"
  },
  "language_info": {
   "codemirror_mode": {
    "name": "ipython",
    "version": 3
   },
   "file_extension": ".py",
   "mimetype": "text/x-python",
   "name": "python",
   "nbconvert_exporter": "python",
   "pygments_lexer": "ipython3",
   "version": "3.12.10"
  }
 },
 "nbformat": 4,
 "nbformat_minor": 5
}

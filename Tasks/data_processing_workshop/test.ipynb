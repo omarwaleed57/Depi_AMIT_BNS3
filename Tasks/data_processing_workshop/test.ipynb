{
 "cells": [
  {
   "cell_type": "code",
   "execution_count": 2,
   "id": "d34765e0",
   "metadata": {},
   "outputs": [],
   "source": [
    "import pandas as pd\n",
    "import numpy as np\n",
    "import warnings\n",
    "warnings.filterwarnings('ignore')"
   ]
  },
  {
   "cell_type": "code",
   "execution_count": null,
   "id": "70a1783c",
   "metadata": {},
   "outputs": [],
   "source": [
    "def read_csv(file_path):\n",
    "    \"\"\"Read data from a CSV file.\"\"\"\n",
    "    return pd.read_csv(file_path)\n",
    "def read_excel(file_path, sheet_name=0):\n",
    "    \"\"\"Read data from an Excel file.\"\"\"\n",
    "    return pd.read_excel(file_path, sheet_name=sheet_name)\n",
    "\n",
    "def read_json(file_path):\n",
    "    \"\"\"Read data from a JSON file.\"\"\"\n",
    "    return pd.read_json(file_path)\n",
    "\n",
    "def read_db(db_path, table_name):\n",
    "    \"\"\"Read data from a database (SQLite).\"\"\"\n",
    "    conn = sqlite3.connect(db_path)\n",
    "    df = pd.read_sql_query(f\"SELECT * FROM {table_name}\", conn)\n",
    "    conn.close()\n",
    "    return df"
   ]
  }
 ],
 "metadata": {
  "kernelspec": {
   "display_name": ".venv",
   "language": "python",
   "name": "python3"
  },
  "language_info": {
   "codemirror_mode": {
    "name": "ipython",
    "version": 3
   },
   "file_extension": ".py",
   "mimetype": "text/x-python",
   "name": "python",
   "nbconvert_exporter": "python",
   "pygments_lexer": "ipython3",
   "version": "3.12.10"
  }
 },
 "nbformat": 4,
 "nbformat_minor": 5
}

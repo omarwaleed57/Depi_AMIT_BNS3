{
 "cells": [
  {
   "cell_type": "code",
   "execution_count": 1,
   "id": "2132872e",
   "metadata": {},
   "outputs": [],
   "source": [
    "import os"
   ]
  },
  {
   "cell_type": "code",
   "execution_count": 2,
   "id": "9ad2e374",
   "metadata": {},
   "outputs": [],
   "source": [
    "file = os.listdir(\"C:/Users/Omar/Desktop/DEPI 1/Depi_AMIT_BNS3/Depi_AMIT_BNS3/traning_system_project\")    # Show Files Inside Folder"
   ]
  },
  {
   "cell_type": "code",
   "execution_count": 3,
   "id": "b987ae76",
   "metadata": {},
   "outputs": [
    {
     "name": "stdout",
     "output_type": "stream",
     "text": [
      "['std.drawio', 'student.py', 'test.ipynb']\n"
     ]
    }
   ],
   "source": [
    "print(file)"
   ]
  },
  {
   "cell_type": "code",
   "execution_count": 10,
   "id": "092daea0",
   "metadata": {},
   "outputs": [
    {
     "data": {
      "text/plain": [
       "'C:/Users/Omar/Desktop/DEPI 1/Depi_AMIT_BNS3/Depi_AMIT_BNS3/Base\\\\text_1.txt'"
      ]
     },
     "execution_count": 10,
     "metadata": {},
     "output_type": "execute_result"
    }
   ],
   "source": [
    "base_dir = \"C:/Users/Omar/Desktop/DEPI 1/Depi_AMIT_BNS3/Depi_AMIT_BNS3/Base\"\n",
    "file_name = \"text_1.txt\"\n",
    "path = os.path.join(base_dir,file_name)\n",
    "path"
   ]
  },
  {
   "cell_type": "code",
   "execution_count": 19,
   "id": "e29fc958",
   "metadata": {},
   "outputs": [],
   "source": [
    "import os\n",
    "dir_1 = \"C:/Users/Omar/Desktop/DEPI 1/Depi_AMIT_BNS3/Depi_AMIT_BNS3/Base\"\n",
    "if not os.path.exists(dir_1):\n",
    "    os.makedirs(dir_1)\n",
    "else:\n",
    "    print(\"Directory already exist\",dir_1)"
   ]
  },
  {
   "cell_type": "code",
   "execution_count": 25,
   "id": "62a0aa0d",
   "metadata": {},
   "outputs": [],
   "source": [
    "import os\n",
    "path = \"C:/Users/Omar/Desktop/DEPI 1/Depi_AMIT_BNS3/Depi_AMIT_BNS3/Base\"\n",
    "\n",
    "if not os.path.exists(path):\n",
    "    os.makedirs(path)\n",
    "for i in range(10):\n",
    "    inner_path = os.path.join(path,\"dir_1\"+str(i))\n",
    "    if not os.path.exists(inner_path):\n",
    "        os.makedirs(inner_path)"
   ]
  },
  {
   "cell_type": "code",
   "execution_count": 33,
   "id": "38636450",
   "metadata": {},
   "outputs": [
    {
     "data": {
      "text/plain": [
       "120"
      ]
     },
     "execution_count": 33,
     "metadata": {},
     "output_type": "execute_result"
    }
   ],
   "source": [
    "def factorial(num):\n",
    "    \"\"\"\"\n",
    "    \n",
    "    \n",
    "    \"\"\"\n",
    "    if num == 0:\n",
    "        return 0 \n",
    "    if num == 1:\n",
    "        return 1 \n",
    "    return num * factorial(num-1)\n",
    "\n",
    "factorial(5)"
   ]
  },
  {
   "cell_type": "code",
   "execution_count": 40,
   "id": "67c1dba7",
   "metadata": {},
   "outputs": [],
   "source": [
    "import random\n",
    "def generate_password(length):\n",
    "    characters = \"askdgauhfghagfjahjfhaskjfkan@3434346278644787684fafo./,,/F>a[]a\"\n",
    "    password = \"\"\n",
    "    \n",
    "    for _ in range (length):\n",
    "        password +=random.choice(characters)\n",
    "    return password"
   ]
  },
  {
   "cell_type": "code",
   "execution_count": 42,
   "id": "fc62ba0c",
   "metadata": {},
   "outputs": [
    {
     "data": {
      "text/plain": [
       "'@oh@3ak[6fah38s'"
      ]
     },
     "execution_count": 42,
     "metadata": {},
     "output_type": "execute_result"
    }
   ],
   "source": [
    "generate_password(15)"
   ]
  },
  {
   "cell_type": "code",
   "execution_count": null,
   "id": "a3f09fd5",
   "metadata": {},
   "outputs": [],
   "source": []
  }
 ],
 "metadata": {
  "kernelspec": {
   "display_name": ".venv",
   "language": "python",
   "name": "python3"
  },
  "language_info": {
   "codemirror_mode": {
    "name": "ipython",
    "version": 3
   },
   "file_extension": ".py",
   "mimetype": "text/x-python",
   "name": "python",
   "nbconvert_exporter": "python",
   "pygments_lexer": "ipython3",
   "version": "3.12.10"
  }
 },
 "nbformat": 4,
 "nbformat_minor": 5
}

{
 "cells": [
  {
   "cell_type": "markdown",
   "id": "78e1f522",
   "metadata": {},
   "source": [
    "\n",
    "## Final Project - Python Module .\n",
    "### Task-1\n",
    "Task Description:\n",
    "Objective: Convert the function-based code into an object-oriented class structure.\n",
    "\n",
    "Problem Statement:\n",
    "\n",
    "- Step 1: Start with Functions\n",
    "\n",
    "Function Definition: Write a Python function that manages a bank account. This function should:\n",
    "\n",
    "- Take an initial balance as input.\n",
    "- Allow deposits, withdrawals, and checking the current balance.\n"
   ]
  },
  {
   "cell_type": "markdown",
   "id": "e1aa5292",
   "metadata": {},
   "source": [
    "Step 2: Convert to Classes\n",
    "Now, convert this procedural code into an object-oriented approach using classes.\n",
    "\n",
    "Class Definition: Create a class called BankAccount that:\n",
    "\n",
    "- Has an attribute for balance.\n",
    "- Has methods for deposit(), withdraw(), and check_balance().\n",
    "- Implements input validation (e.g., no negative deposits or withdrawals).\n",
    "\n",
    "Task Requirement:\n",
    "\n",
    "- Define the BankAccount class.\n",
    "- Add an initializer (__init__) to set the initial balance.\n",
    "- Implement the deposit(), withdraw(), and check_balance() methods.\n",
    "- Demonstrate the use of the class by creating an account and performing operations similar to the function example."
   ]
  },
  {
   "cell_type": "code",
   "execution_count": 25,
   "id": "2a20f9d9",
   "metadata": {},
   "outputs": [
    {
     "name": "stdout",
     "output_type": "stream",
     "text": [
      "Current balance: 100\n",
      "Deposited 50. New balance: 150\n",
      "Withdrew 30. New balance: 120\n"
     ]
    }
   ],
   "source": [
    "class bank_account:\n",
    "    \"\"\"\n",
    "    This calss for making a bank account\n",
    "    \"\"\"\n",
    "    def __init__(self,balance: int):\n",
    "        \"\"\"\n",
    "        Initialize the bank account with a starting balance\n",
    "        \"\"\"\n",
    "        self.balance = balance\n",
    "\n",
    "    def deposit(self,amount):\n",
    "        \"\"\"\n",
    "        Add money to the account if the amount is positive\n",
    "        \"\"\"\n",
    "        if amount > 0:\n",
    "            self.balance += amount\n",
    "            print(f'Deposited {amount}. New balance: {self.balance}')\n",
    "        else:\n",
    "            print(\"Error! Enter a positive number\")\n",
    "\n",
    "    def withdraw(self,amount):\n",
    "        \"\"\"\n",
    "        Withdraw money if the amount is positive and enough balance is available\n",
    "        \"\"\"\n",
    "        if amount > 0:\n",
    "            if amount > self.balance:\n",
    "                print('Insufficient funds')\n",
    "            else:\n",
    "                self.balance -= amount\n",
    "                print(f'Withdrew {amount}. New balance: {self.balance}')\n",
    "        else:\n",
    "            print(\"Error! Enter a positive number\")\n",
    "\n",
    "    def check_balance(self):\n",
    "        \"\"\"\n",
    "        Display the current balance of the account\n",
    "        \"\"\"\n",
    "        print(f'Current balance: {self.balance}')\n",
    "acc1 = bank_account(100)\n",
    "acc1.check_balance()\n",
    "acc1.deposit(50)\n",
    "acc1.withdraw(30)"
   ]
  },
  {
   "cell_type": "code",
   "execution_count": 23,
   "id": "092d7dbe",
   "metadata": {},
   "outputs": [
    {
     "name": "stdout",
     "output_type": "stream",
     "text": [
      "Error! Enter a positive number\n"
     ]
    }
   ],
   "source": [
    "acc1.deposit(-50)"
   ]
  },
  {
   "cell_type": "code",
   "execution_count": 24,
   "id": "90b0082a",
   "metadata": {},
   "outputs": [
    {
     "name": "stdout",
     "output_type": "stream",
     "text": [
      "Error! Enter a positive number\n"
     ]
    }
   ],
   "source": [
    "acc1.withdraw(-30)"
   ]
  }
 ],
 "metadata": {
  "kernelspec": {
   "display_name": "Python 3",
   "language": "python",
   "name": "python3"
  },
  "language_info": {
   "codemirror_mode": {
    "name": "ipython",
    "version": 3
   },
   "file_extension": ".py",
   "mimetype": "text/x-python",
   "name": "python",
   "nbconvert_exporter": "python",
   "pygments_lexer": "ipython3",
   "version": "3.12.9"
  }
 },
 "nbformat": 4,
 "nbformat_minor": 5
}

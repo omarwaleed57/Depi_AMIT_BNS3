{
 "cells": [
  {
   "cell_type": "markdown",
   "id": "86339ad0",
   "metadata": {},
   "source": [
    "### Task-6\n",
    "read file from hard disk"
   ]
  },
  {
   "cell_type": "code",
   "execution_count": 2,
   "id": "21ecb7fc",
   "metadata": {},
   "outputs": [
    {
     "name": "stdout",
     "output_type": "stream",
     "text": [
      "Ayman:1234\n",
      "Ali:2345\n",
      "Omar:3456\n",
      "Hassan:4567\n",
      "Menna:5678\n",
      "George:6789\n"
     ]
    }
   ],
   "source": [
    "def read_txt_file(file_path):\n",
    "    \"\"\"Reads the contents of a text file and returns it as a string.\"\"\"\n",
    "    try:\n",
    "        with open(file_path, 'r', encoding='utf-8') as file:\n",
    "            content = file.read()\n",
    "        return content\n",
    "    except FileNotFoundError:\n",
    "        return f\"Error: The file '{file_path}' was not found.\"\n",
    "    except IOError:\n",
    "        return \"Error: An error occurred while reading the file.\"\n",
    "\n",
    "# Usage\n",
    "if __name__ == \"__main__\":\n",
    "    file_path = 'G:/DEPI/Depi_Amit_AI_BNS3/Sources/python_project/users.txt'\n",
    "    file_content = read_txt_file(file_path)\n",
    "    print(file_content)"
   ]
  },
  {
   "cell_type": "markdown",
   "id": "6a9cc390",
   "metadata": {},
   "source": [
    "## Requirements\n",
    "\n",
    "1. **Functionality:**\n",
    "   - Implement a function `read_txt_file(file_path)` that reads the contents of a specified text file and returns it as a string. Ensure the function handles exceptions such as file not found or IO errors gracefully.\n",
    "\n",
    "2. **Class Structure:**\n",
    "   - Create a class named `UserExtractor` with the following:\n",
    "     - An `__init__` method that initializes the class with:\n",
    "       - `file_path`: The path to the text file.\n",
    "       - `usernames`: A dictionary to store usernames.\n",
    "     - A method `extract_usernames` that uses the `read_txt_file` function to read the contents of the text file and extracts usernames into a dictionary. \n",
    "       - Assume the format of each line in the file is `username:password`.\n",
    "\n",
    "3. **Assumptions:**\n",
    "   - Each line in the text file is formatted as `username:password`.\n",
    "   - Usernames should be unique in the dictionary.\n",
    "\n",
    "4. **Error Handling:**\n",
    "   - If there is an error in reading the file, ensure that the method returns an appropriate error message.\n"
   ]
  },
  {
   "cell_type": "code",
   "execution_count": 29,
   "id": "91cf4f07",
   "metadata": {},
   "outputs": [
    {
     "name": "stdout",
     "output_type": "stream",
     "text": [
      "Users are:\n",
      " {'Ayman': '1234', 'Ali': '2345', 'Omar': '3456', 'Hassan': '4567', 'Menna': '5678', 'George': '6789'}\n"
     ]
    }
   ],
   "source": [
    "def read_txt_file(file_path):\n",
    "    \"\"\"Reads the contents of a text file and returns it as a string.\"\"\"\n",
    "    try:\n",
    "        with open(file_path, 'r', encoding='utf-8') as file:\n",
    "            content = file.read()\n",
    "        return content\n",
    "    except FileNotFoundError:\n",
    "        return f\"Error: The file '{file_path}' was not found.\"\n",
    "    except IOError:\n",
    "        return \"Error: An error occurred while reading the file.\"\n",
    "\n",
    "class UserExtractor:\n",
    "    def __init__(self, file_path):\n",
    "        self.file_path = file_path\n",
    "        self.users = {}\n",
    "        # Initialize the class with file_path and an empty dictionary for usernames\n",
    "\n",
    "    def extract_usernames(self):\n",
    "        \"\"\"Extracts usernames from the text file and stores them in a dictionary.\"\"\"\n",
    "        content = read_txt_file(self.file_path)\n",
    "        lines = content.splitlines()\n",
    "        for line in lines:\n",
    "            if \":\" in line:\n",
    "                username, password = line.split(\":\", 1)  \n",
    "                self.users[username] = password\n",
    "        \n",
    "\n",
    "# Usage\n",
    "if __name__ == \"__main__\":\n",
    "    extractor = UserExtractor('G:/DEPI/Depi_Amit_AI_BNS3/Sources/python_project/users.txt')\n",
    "    extractor.extract_usernames()\n",
    "    print(\"Users are:\\n\", extractor.users)"
   ]
  }
 ],
 "metadata": {
  "kernelspec": {
   "display_name": "Python 3",
   "language": "python",
   "name": "python3"
  },
  "language_info": {
   "codemirror_mode": {
    "name": "ipython",
    "version": 3
   },
   "file_extension": ".py",
   "mimetype": "text/x-python",
   "name": "python",
   "nbconvert_exporter": "python",
   "pygments_lexer": "ipython3",
   "version": "3.12.9"
  }
 },
 "nbformat": 4,
 "nbformat_minor": 5
}

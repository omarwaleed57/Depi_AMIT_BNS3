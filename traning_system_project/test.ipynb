{
 "cells": [
  {
   "cell_type": "code",
   "execution_count": 43,
   "id": "f48a463a",
   "metadata": {},
   "outputs": [],
   "source": [
    "\"\"\"\n",
    "\n",
    "\n",
    "\n",
    "\n",
    "\"\"\"\n",
    "class student:\n",
    "    _id_counter = 1\n",
    "    \n",
    "    def __init__(self,name):\n",
    "        self.name = name\n",
    "        student._id_counter +=1\n",
    "        self.student_id = student._id_counter\n",
    "        self.grades = {}\n",
    "        self.enrolled_courses = []\n",
    "        \n",
    "    \n",
    "    def __str__(self):\n",
    "        return f\"Student ID: {self.student_id}, Name : {self.name},Grades : {(self.grades)} \"\n",
    "        \n",
    "    def __repr__(self):\n",
    "        return f\"Student ID: {self.student_id}, Name : {self.name},Grades : {(self.grades)} \"\n",
    "        \n",
    "        \n",
    "    def add_grade (self,course_id,grade):\n",
    "         self.grades[course_id] = grade\n",
    "         \n",
    "    def enrolled_in_course(self,course):\n",
    "        self.enrolled_courses.append(course)"
   ]
  },
  {
   "cell_type": "code",
   "execution_count": 46,
   "id": "093ef09c",
   "metadata": {},
   "outputs": [
    {
     "name": "stdout",
     "output_type": "stream",
     "text": [
      "Student ID: 4, Name : omar,Grades : {2: 20} \n"
     ]
    }
   ],
   "source": [
    "name = input()\n",
    "s1 = student(\"omar\")\n",
    "s1.add_grade(2,20)\n",
    "print(s1)\n",
    "\n"
   ]
  },
  {
   "cell_type": "code",
   "execution_count": null,
   "id": "c924d445",
   "metadata": {},
   "outputs": [],
   "source": []
  },
  {
   "cell_type": "markdown",
   "id": "e683e658",
   "metadata": {},
   "source": []
  }
 ],
 "metadata": {
  "kernelspec": {
   "display_name": ".venv",
   "language": "python",
   "name": "python3"
  },
  "language_info": {
   "codemirror_mode": {
    "name": "ipython",
    "version": 3
   },
   "file_extension": ".py",
   "mimetype": "text/x-python",
   "name": "python",
   "nbconvert_exporter": "python",
   "pygments_lexer": "ipython3",
   "version": "3.12.10"
  }
 },
 "nbformat": 4,
 "nbformat_minor": 5
}
